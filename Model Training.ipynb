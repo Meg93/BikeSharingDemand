{
 "cells": [
  {
   "cell_type": "code",
   "execution_count": 130,
   "metadata": {
    "collapsed": false
   },
   "outputs": [],
   "source": [
    "import pandas as pd\n",
    "import numpy as np\n",
    "from matplotlib import pyplot as plt \n",
    "%matplotlib inline \n",
    "# from matplotlib.pylab import rcParams\n",
    "# rcParams['figure.figsize'] = 12, 4\n",
    "import timeit\n",
    "from sklearn.model_selection import cross_val_score\n",
    "from sklearn.preprocessing import OneHotEncoder\n",
    "import random\n",
    "import statsmodels.api as sm\n",
    "from sklearn.linear_model import LinearRegression\n",
    "from sklearn.ensemble import RandomForestRegressor\n",
    "from sklearn.ensemble import GradientBoostingRegressor\n",
    "from sklearn import model_selection, metrics\n",
    "from sklearn.grid_search import GridSearchCV # perform grid search"
   ]
  },
  {
   "cell_type": "code",
   "execution_count": 69,
   "metadata": {
    "collapsed": true
   },
   "outputs": [],
   "source": [
    "train_df = pd.read_csv(\"train.csv\", header=0)\n",
    "test_df = pd.read_csv(\"test.csv\", header = 0)"
   ]
  },
  {
   "cell_type": "code",
   "execution_count": 32,
   "metadata": {
    "collapsed": false
   },
   "outputs": [
    {
     "data": {
      "text/html": [
       "<div>\n",
       "<table border=\"1\" class=\"dataframe\">\n",
       "  <thead>\n",
       "    <tr style=\"text-align: right;\">\n",
       "      <th></th>\n",
       "      <th>datetime</th>\n",
       "      <th>season</th>\n",
       "      <th>holiday</th>\n",
       "      <th>workingday</th>\n",
       "      <th>weather</th>\n",
       "      <th>temp</th>\n",
       "      <th>atemp</th>\n",
       "      <th>humidity</th>\n",
       "      <th>windspeed</th>\n",
       "      <th>casual</th>\n",
       "      <th>registered</th>\n",
       "      <th>count</th>\n",
       "      <th>year</th>\n",
       "      <th>month</th>\n",
       "      <th>day</th>\n",
       "      <th>hour</th>\n",
       "      <th>weekday</th>\n",
       "    </tr>\n",
       "  </thead>\n",
       "  <tbody>\n",
       "    <tr>\n",
       "      <th>0</th>\n",
       "      <td>2011-01-01 00:00:00</td>\n",
       "      <td>1</td>\n",
       "      <td>0</td>\n",
       "      <td>0</td>\n",
       "      <td>1</td>\n",
       "      <td>9.84</td>\n",
       "      <td>14.395</td>\n",
       "      <td>81</td>\n",
       "      <td>0.0</td>\n",
       "      <td>3</td>\n",
       "      <td>13</td>\n",
       "      <td>16</td>\n",
       "      <td>2011</td>\n",
       "      <td>1</td>\n",
       "      <td>1</td>\n",
       "      <td>0</td>\n",
       "      <td>5</td>\n",
       "    </tr>\n",
       "    <tr>\n",
       "      <th>1</th>\n",
       "      <td>2011-01-01 01:00:00</td>\n",
       "      <td>1</td>\n",
       "      <td>0</td>\n",
       "      <td>0</td>\n",
       "      <td>1</td>\n",
       "      <td>9.02</td>\n",
       "      <td>13.635</td>\n",
       "      <td>80</td>\n",
       "      <td>0.0</td>\n",
       "      <td>8</td>\n",
       "      <td>32</td>\n",
       "      <td>40</td>\n",
       "      <td>2011</td>\n",
       "      <td>1</td>\n",
       "      <td>1</td>\n",
       "      <td>1</td>\n",
       "      <td>5</td>\n",
       "    </tr>\n",
       "    <tr>\n",
       "      <th>2</th>\n",
       "      <td>2011-01-01 02:00:00</td>\n",
       "      <td>1</td>\n",
       "      <td>0</td>\n",
       "      <td>0</td>\n",
       "      <td>1</td>\n",
       "      <td>9.02</td>\n",
       "      <td>13.635</td>\n",
       "      <td>80</td>\n",
       "      <td>0.0</td>\n",
       "      <td>5</td>\n",
       "      <td>27</td>\n",
       "      <td>32</td>\n",
       "      <td>2011</td>\n",
       "      <td>1</td>\n",
       "      <td>1</td>\n",
       "      <td>2</td>\n",
       "      <td>5</td>\n",
       "    </tr>\n",
       "  </tbody>\n",
       "</table>\n",
       "</div>"
      ],
      "text/plain": [
       "              datetime  season  holiday  workingday  weather  temp   atemp  \\\n",
       "0  2011-01-01 00:00:00       1        0           0        1  9.84  14.395   \n",
       "1  2011-01-01 01:00:00       1        0           0        1  9.02  13.635   \n",
       "2  2011-01-01 02:00:00       1        0           0        1  9.02  13.635   \n",
       "\n",
       "   humidity  windspeed  casual  registered  count  year  month  day  hour  \\\n",
       "0        81        0.0       3          13     16  2011      1    1     0   \n",
       "1        80        0.0       8          32     40  2011      1    1     1   \n",
       "2        80        0.0       5          27     32  2011      1    1     2   \n",
       "\n",
       "   weekday  \n",
       "0        5  \n",
       "1        5  \n",
       "2        5  "
      ]
     },
     "execution_count": 32,
     "metadata": {},
     "output_type": "execute_result"
    }
   ],
   "source": [
    "# convert datetime column into multiple columns (year/month/day/hour/weekday)\n",
    "dt = pd.to_datetime(train_df[\"datetime\"]) # convert string to datetime type\n",
    "train_df[\"year\"] = dt.map(lambda x: x.year) \n",
    "train_df[\"month\"] = dt.map(lambda x: x.month)\n",
    "train_df[\"day\"] = dt.map(lambda x: x.day)\n",
    "train_df[\"hour\"] = dt.map(lambda x: x.hour)\n",
    "train_df[\"weekday\"] = dt.map(lambda x: x.weekday())\n",
    "train_df.head(3)"
   ]
  },
  {
   "cell_type": "code",
   "execution_count": 70,
   "metadata": {
    "collapsed": false
   },
   "outputs": [
    {
     "data": {
      "text/html": [
       "<div>\n",
       "<table border=\"1\" class=\"dataframe\">\n",
       "  <thead>\n",
       "    <tr style=\"text-align: right;\">\n",
       "      <th></th>\n",
       "      <th>datetime</th>\n",
       "      <th>season</th>\n",
       "      <th>holiday</th>\n",
       "      <th>workingday</th>\n",
       "      <th>weather</th>\n",
       "      <th>temp</th>\n",
       "      <th>atemp</th>\n",
       "      <th>humidity</th>\n",
       "      <th>windspeed</th>\n",
       "      <th>year</th>\n",
       "      <th>month</th>\n",
       "      <th>day</th>\n",
       "      <th>hour</th>\n",
       "      <th>weekday</th>\n",
       "    </tr>\n",
       "  </thead>\n",
       "  <tbody>\n",
       "    <tr>\n",
       "      <th>0</th>\n",
       "      <td>2011-01-20 00:00:00</td>\n",
       "      <td>1</td>\n",
       "      <td>0</td>\n",
       "      <td>1</td>\n",
       "      <td>1</td>\n",
       "      <td>10.66</td>\n",
       "      <td>11.365</td>\n",
       "      <td>56</td>\n",
       "      <td>26.0027</td>\n",
       "      <td>2011</td>\n",
       "      <td>1</td>\n",
       "      <td>20</td>\n",
       "      <td>0</td>\n",
       "      <td>3</td>\n",
       "    </tr>\n",
       "    <tr>\n",
       "      <th>1</th>\n",
       "      <td>2011-01-20 01:00:00</td>\n",
       "      <td>1</td>\n",
       "      <td>0</td>\n",
       "      <td>1</td>\n",
       "      <td>1</td>\n",
       "      <td>10.66</td>\n",
       "      <td>13.635</td>\n",
       "      <td>56</td>\n",
       "      <td>0.0000</td>\n",
       "      <td>2011</td>\n",
       "      <td>1</td>\n",
       "      <td>20</td>\n",
       "      <td>1</td>\n",
       "      <td>3</td>\n",
       "    </tr>\n",
       "    <tr>\n",
       "      <th>2</th>\n",
       "      <td>2011-01-20 02:00:00</td>\n",
       "      <td>1</td>\n",
       "      <td>0</td>\n",
       "      <td>1</td>\n",
       "      <td>1</td>\n",
       "      <td>10.66</td>\n",
       "      <td>13.635</td>\n",
       "      <td>56</td>\n",
       "      <td>0.0000</td>\n",
       "      <td>2011</td>\n",
       "      <td>1</td>\n",
       "      <td>20</td>\n",
       "      <td>2</td>\n",
       "      <td>3</td>\n",
       "    </tr>\n",
       "  </tbody>\n",
       "</table>\n",
       "</div>"
      ],
      "text/plain": [
       "              datetime  season  holiday  workingday  weather   temp   atemp  \\\n",
       "0  2011-01-20 00:00:00       1        0           1        1  10.66  11.365   \n",
       "1  2011-01-20 01:00:00       1        0           1        1  10.66  13.635   \n",
       "2  2011-01-20 02:00:00       1        0           1        1  10.66  13.635   \n",
       "\n",
       "   humidity  windspeed  year  month  day  hour  weekday  \n",
       "0        56    26.0027  2011      1   20     0        3  \n",
       "1        56     0.0000  2011      1   20     1        3  \n",
       "2        56     0.0000  2011      1   20     2        3  "
      ]
     },
     "execution_count": 70,
     "metadata": {},
     "output_type": "execute_result"
    }
   ],
   "source": [
    "# convert datetime column into multiple columns (year/month/day/hour/weekday)\n",
    "dt = pd.to_datetime(test_df[\"datetime\"]) # convert string to datetime type\n",
    "test_df[\"year\"] = dt.map(lambda x: x.year) \n",
    "test_df[\"month\"] = dt.map(lambda x: x.month)\n",
    "test_df[\"day\"] = dt.map(lambda x: x.day)\n",
    "test_df[\"hour\"] = dt.map(lambda x: x.hour)\n",
    "test_df[\"weekday\"] = dt.map(lambda x: x.weekday())\n",
    "test_df.head(3)"
   ]
  },
  {
   "cell_type": "markdown",
   "metadata": {},
   "source": [
    "### Remove outliers \n",
    "From the figure Perceived Temerature VS Actual Temperature, there are some points far away from the diagonal line. Therefore, we remove the data points in the following steps."
   ]
  },
  {
   "cell_type": "code",
   "execution_count": 33,
   "metadata": {
    "collapsed": true
   },
   "outputs": [],
   "source": [
    "train_clean = train_df[np.array(train_df[\"temp\"]/train_df[\"atemp\"])<2]"
   ]
  },
  {
   "cell_type": "code",
   "execution_count": 34,
   "metadata": {
    "collapsed": false
   },
   "outputs": [
    {
     "data": {
      "image/png": "[encoded data removed]",
      "text/plain": [
       "<matplotlib.figure.Figure at 0x116433b50>"
      ]
     },
     "metadata": {},
     "output_type": "display_data"
    }
   ],
   "source": [
    "f, ax = plt.subplots(figsize=(5, 4))\n",
    "ax.scatter(train_clean[\"atemp\"], train_clean[\"temp\"], alpha = 0.2)\n",
    "ax.plot(ax.get_xlim(), ax.get_ylim(), ls=\"--\", c=\".3\", color = \"red\")\n",
    "ax.set_xlabel(\"Feels like Temperature\")\n",
    "ax.set_ylabel(\"Actual Temperature\")\n",
    "plt.title(\"Perceived Temperature VS Actual Temperature\")\n",
    "plt.show()"
   ]
  },
  {
   "cell_type": "markdown",
   "metadata": {},
   "source": [
    "### Model Training"
   ]
  },
  {
   "cell_type": "markdown",
   "metadata": {},
   "source": [
    "####  Feature Engineer\n",
    "In the following section, We conducted one-hot-encoding to converse all categorical variables into binary arrays."
   ]
  },
  {
   "cell_type": "code",
   "execution_count": 36,
   "metadata": {
    "collapsed": false
   },
   "outputs": [
    {
     "data": {
      "text/html": [
       "<div>\n",
       "<table border=\"1\" class=\"dataframe\">\n",
       "  <thead>\n",
       "    <tr style=\"text-align: right;\">\n",
       "      <th></th>\n",
       "      <th>season</th>\n",
       "      <th>holiday</th>\n",
       "      <th>workingday</th>\n",
       "      <th>weather</th>\n",
       "      <th>atemp</th>\n",
       "      <th>humidity</th>\n",
       "      <th>windspeed</th>\n",
       "      <th>count</th>\n",
       "      <th>year</th>\n",
       "      <th>month</th>\n",
       "      <th>day</th>\n",
       "      <th>hour</th>\n",
       "    </tr>\n",
       "  </thead>\n",
       "  <tbody>\n",
       "    <tr>\n",
       "      <th>0</th>\n",
       "      <td>1</td>\n",
       "      <td>0</td>\n",
       "      <td>0</td>\n",
       "      <td>1</td>\n",
       "      <td>14.395</td>\n",
       "      <td>81</td>\n",
       "      <td>0.0</td>\n",
       "      <td>16</td>\n",
       "      <td>2011</td>\n",
       "      <td>1</td>\n",
       "      <td>1</td>\n",
       "      <td>0</td>\n",
       "    </tr>\n",
       "    <tr>\n",
       "      <th>1</th>\n",
       "      <td>1</td>\n",
       "      <td>0</td>\n",
       "      <td>0</td>\n",
       "      <td>1</td>\n",
       "      <td>13.635</td>\n",
       "      <td>80</td>\n",
       "      <td>0.0</td>\n",
       "      <td>40</td>\n",
       "      <td>2011</td>\n",
       "      <td>1</td>\n",
       "      <td>1</td>\n",
       "      <td>1</td>\n",
       "    </tr>\n",
       "    <tr>\n",
       "      <th>2</th>\n",
       "      <td>1</td>\n",
       "      <td>0</td>\n",
       "      <td>0</td>\n",
       "      <td>1</td>\n",
       "      <td>13.635</td>\n",
       "      <td>80</td>\n",
       "      <td>0.0</td>\n",
       "      <td>32</td>\n",
       "      <td>2011</td>\n",
       "      <td>1</td>\n",
       "      <td>1</td>\n",
       "      <td>2</td>\n",
       "    </tr>\n",
       "  </tbody>\n",
       "</table>\n",
       "</div>"
      ],
      "text/plain": [
       "   season  holiday  workingday  weather   atemp  humidity  windspeed  count  \\\n",
       "0       1        0           0        1  14.395        81        0.0     16   \n",
       "1       1        0           0        1  13.635        80        0.0     40   \n",
       "2       1        0           0        1  13.635        80        0.0     32   \n",
       "\n",
       "   year  month  day  hour  \n",
       "0  2011      1    1     0  \n",
       "1  2011      1    1     1  \n",
       "2  2011      1    1     2  "
      ]
     },
     "execution_count": 36,
     "metadata": {},
     "output_type": "execute_result"
    }
   ],
   "source": [
    "# weekday is dropped because it overlaps with workingday\n",
    "# temp is dropped because it overlaps with atemp\n",
    "# registered and casual are dropped because they should be response variable\n",
    "train_all = train_df.drop(['datetime', 'weekday', 'temp', 'registered', 'casual'],axis = 1) # include all features and target\n",
    "train_all.head(3)"
   ]
  },
  {
   "cell_type": "code",
   "execution_count": 71,
   "metadata": {
    "collapsed": false
   },
   "outputs": [
    {
     "data": {
      "text/html": [
       "<div>\n",
       "<table border=\"1\" class=\"dataframe\">\n",
       "  <thead>\n",
       "    <tr style=\"text-align: right;\">\n",
       "      <th></th>\n",
       "      <th>season</th>\n",
       "      <th>holiday</th>\n",
       "      <th>workingday</th>\n",
       "      <th>weather</th>\n",
       "      <th>atemp</th>\n",
       "      <th>humidity</th>\n",
       "      <th>windspeed</th>\n",
       "      <th>year</th>\n",
       "      <th>month</th>\n",
       "      <th>day</th>\n",
       "      <th>hour</th>\n",
       "    </tr>\n",
       "  </thead>\n",
       "  <tbody>\n",
       "    <tr>\n",
       "      <th>0</th>\n",
       "      <td>1</td>\n",
       "      <td>0</td>\n",
       "      <td>1</td>\n",
       "      <td>1</td>\n",
       "      <td>11.365</td>\n",
       "      <td>56</td>\n",
       "      <td>26.0027</td>\n",
       "      <td>2011</td>\n",
       "      <td>1</td>\n",
       "      <td>20</td>\n",
       "      <td>0</td>\n",
       "    </tr>\n",
       "    <tr>\n",
       "      <th>1</th>\n",
       "      <td>1</td>\n",
       "      <td>0</td>\n",
       "      <td>1</td>\n",
       "      <td>1</td>\n",
       "      <td>13.635</td>\n",
       "      <td>56</td>\n",
       "      <td>0.0000</td>\n",
       "      <td>2011</td>\n",
       "      <td>1</td>\n",
       "      <td>20</td>\n",
       "      <td>1</td>\n",
       "    </tr>\n",
       "    <tr>\n",
       "      <th>2</th>\n",
       "      <td>1</td>\n",
       "      <td>0</td>\n",
       "      <td>1</td>\n",
       "      <td>1</td>\n",
       "      <td>13.635</td>\n",
       "      <td>56</td>\n",
       "      <td>0.0000</td>\n",
       "      <td>2011</td>\n",
       "      <td>1</td>\n",
       "      <td>20</td>\n",
       "      <td>2</td>\n",
       "    </tr>\n",
       "  </tbody>\n",
       "</table>\n",
       "</div>"
      ],
      "text/plain": [
       "   season  holiday  workingday  weather   atemp  humidity  windspeed  year  \\\n",
       "0       1        0           1        1  11.365        56    26.0027  2011   \n",
       "1       1        0           1        1  13.635        56     0.0000  2011   \n",
       "2       1        0           1        1  13.635        56     0.0000  2011   \n",
       "\n",
       "   month  day  hour  \n",
       "0      1   20     0  \n",
       "1      1   20     1  \n",
       "2      1   20     2  "
      ]
     },
     "execution_count": 71,
     "metadata": {},
     "output_type": "execute_result"
    }
   ],
   "source": [
    "test_all = test_df.drop(['datetime', 'weekday', 'temp'],axis = 1) # include all features and target\n",
    "test_all.head(3) # features for testing model"
   ]
  },
  {
   "cell_type": "markdown",
   "metadata": {},
   "source": [
    "In the above table, conduct one-hot-encoding for \"season\", \"holiday\", \"workingday\", \"weather\""
   ]
  },
  {
   "cell_type": "code",
   "execution_count": 37,
   "metadata": {
    "collapsed": false
   },
   "outputs": [
    {
     "name": "stdout",
     "output_type": "stream",
     "text": [
      "encoded results for the first four categorical features:  \n",
      "\n",
      "[[ 1.  0.  0. ...,  0.  0.  0.]\n",
      " [ 1.  0.  0. ...,  0.  0.  0.]\n",
      " [ 1.  0.  0. ...,  0.  0.  0.]\n",
      " ..., \n",
      " [ 0.  0.  0. ...,  0.  0.  0.]\n",
      " [ 0.  0.  0. ...,  0.  0.  0.]\n",
      " [ 0.  0.  0. ...,  0.  0.  0.]] (10886, 12) \n",
      "\n",
      "combine encoded features with other numerical features:  \n",
      "\n",
      "[[  1.   0.   0. ...,   1.   1.   0.]\n",
      " [  1.   0.   0. ...,   1.   1.   1.]\n",
      " [  1.   0.   0. ...,   1.   1.   2.]\n",
      " ..., \n",
      " [  0.   0.   0. ...,  12.  19.  21.]\n",
      " [  0.   0.   0. ...,  12.  19.  22.]\n",
      " [  0.   0.   0. ...,  12.  19.  23.]] (10886, 20) \n",
      "\n",
      "Index([u'season', u'holiday', u'workingday', u'weather', u'atemp', u'humidity',\n",
      "       u'windspeed', u'count', u'year', u'month', u'day', u'hour'],\n",
      "      dtype='object')\n"
     ]
    }
   ],
   "source": [
    "encode_feature = train_all[['season','holiday','workingday','weather']].values\n",
    "enc = OneHotEncoder()\n",
    "encode_result = enc.fit_transform(encode_feature).toarray()\n",
    "print \"encoded results for the first four categorical features: \", \"\\n\"\n",
    "print encode_result, np.shape(encode_result), \"\\n\"\n",
    "\n",
    "after_encode = np.concatenate([encode_result,train_all.ix[:, 4:]], axis = 1)\n",
    "print \"combine encoded features with other numerical features: \", \"\\n\"\n",
    "print after_encode, np.shape(after_encode), \"\\n\"\n",
    "\n",
    "col_names = train_all.columns\n",
    "print col_names"
   ]
  },
  {
   "cell_type": "markdown",
   "metadata": {},
   "source": [
    "#### Train Test Split\n",
    "#### Version 1: without one-hot-encoding"
   ]
  },
  {
   "cell_type": "code",
   "execution_count": 38,
   "metadata": {
    "collapsed": false
   },
   "outputs": [
    {
     "name": "stdout",
     "output_type": "stream",
     "text": [
      "['season', 'holiday', 'workingday', 'weather', 'atemp', 'humidity', 'windspeed', 'count', 'year', 'month', 'day', 'hour']\n"
     ]
    },
    {
     "data": {
      "text/plain": [
       "((7293,), (7293, 11), (3593,), (3593, 11), (10886, 12))"
      ]
     },
     "execution_count": 38,
     "metadata": {},
     "output_type": "execute_result"
    }
   ],
   "source": [
    "# train and validation split. After one-hot-encoding, we have 19 features.\n",
    "temp = train_all.values\n",
    "header1 = list(col_names)\n",
    "print header1\n",
    "\n",
    "train_size = int(temp.shape[0]*0.67)\n",
    "\n",
    "train_sample_indices = random.sample(range(temp.shape[0]),train_size) # random sample from temp data. No replacement\n",
    "data1 = temp[train_sample_indices,:]\n",
    "\n",
    "validation_sample_indices = [i for i in range(temp.shape[0]) if i not in train_sample_indices]\n",
    "data2 = temp[validation_sample_indices,:]\n",
    "\n",
    "header2 = header1\n",
    "\n",
    "train_target = temp[train_sample_indices, header1.index('count')].astype(int) # target value for train data\n",
    "train = np.delete(data1, header1.index('count'), axis = 1) # all features for model input\n",
    "validation_target = temp[validation_sample_indices, header2.index('count')].astype(int) # target value for validation data\n",
    "validation = np.delete(data2, header2.index('count'), axis = 1) \n",
    "\n",
    "assert(np.shape(train)[0] + np.shape(validation)[0] == np.shape(temp)[0]) # makesure the split is right\n",
    "header1.remove('count')\n",
    "np.shape(train_target), np.shape(train), np.shape(validation_target), np.shape(validation),np.shape(temp)"
   ]
  },
  {
   "cell_type": "markdown",
   "metadata": {},
   "source": [
    "#### version 2: with one-hot-encoding"
   ]
  },
  {
   "cell_type": "code",
   "execution_count": 39,
   "metadata": {
    "collapsed": false
   },
   "outputs": [
    {
     "name": "stdout",
     "output_type": "stream",
     "text": [
      "['season', 'holiday', 'workingday', 'weather', 'atemp', 'humidity', 'windspeed', 'count', 'year', 'month', 'day', 'hour']\n"
     ]
    },
    {
     "data": {
      "text/plain": [
       "((7293,), (7293, 11), (3593,), (3593, 11), (10886, 12))"
      ]
     },
     "execution_count": 39,
     "metadata": {},
     "output_type": "execute_result"
    }
   ],
   "source": [
    "# train and validation split. After one-hot-encoding, we have 19 features.\n",
    "temp = train_all.values \n",
    "header1 = list(col_names)\n",
    "print header1\n",
    "train_size = int(temp.shape[0]*0.67)\n",
    "\n",
    "train_sample_indices = random.sample(range(temp.shape[0]),train_size) # random sample from temp data. No replacement\n",
    "data1 = temp[train_sample_indices,:]\n",
    "\n",
    "validation_sample_indices = [i for i in range(temp.shape[0]) if i not in train_sample_indices]\n",
    "data2 = temp[validation_sample_indices,:]\n",
    "\n",
    "header2 = header1\n",
    "\n",
    "train_target2 = temp[train_sample_indices, header1.index('count')].astype(int) # target value for train data\n",
    "train2 = np.delete(data1, header1.index('count'), axis = 1) # all features for model input\n",
    "validation_target2 = temp[validation_sample_indices, header2.index('count')].astype(int) # target value for validation data\n",
    "validation2 = np.delete(data2, header2.index('count'), axis = 1) \n",
    "\n",
    "assert(np.shape(train2)[0] + np.shape(validation2)[0] == np.shape(temp)[0]) # makesure the split is right\n",
    "header1.remove('count')\n",
    "np.shape(train_target2), np.shape(train2), np.shape(validation_target2), np.shape(validation2),np.shape(temp)"
   ]
  },
  {
   "cell_type": "markdown",
   "metadata": {},
   "source": [
    "#### Here we have all training data and testing data. Ready to GO!"
   ]
  },
  {
   "cell_type": "code",
   "execution_count": 40,
   "metadata": {
    "collapsed": false
   },
   "outputs": [
    {
     "data": {
      "text/plain": [
       "0.56717915832655263"
      ]
     },
     "execution_count": 40,
     "metadata": {},
     "output_type": "execute_result"
    }
   ],
   "source": [
    "# Evaluation\n",
    "def cal_rmlse(pred, actual):\n",
    "    \"\"\"\n",
    "    evaluation of model\n",
    "    parameters:\n",
    "    -----------\n",
    "    pred: array or list\n",
    "        prediction\n",
    "    actual: array or list\n",
    "        actual target value\n",
    "    return:\n",
    "    -----------\n",
    "    rmlse\n",
    "    \"\"\"\n",
    "    rmlse = np.sqrt(np.mean((np.log(np.array(pred) + 1)- np.log(np.array(actual) + 1))**2))\n",
    "    return rmlse\n",
    "# test example\n",
    "cal_rmlse([1,2,3],[2,6,2])"
   ]
  },
  {
   "cell_type": "markdown",
   "metadata": {},
   "source": [
    "### Model 1: Linear Regression\n",
    "#### pair-wise scatter plot"
   ]
  },
  {
   "cell_type": "code",
   "execution_count": 41,
   "metadata": {
    "collapsed": false
   },
   "outputs": [
    {
     "data": {
      "text/html": [
       "<table class=\"simpletable\">\n",
       "<caption>OLS Regression Results</caption>\n",
       "<tr>\n",
       "  <th>Dep. Variable:</th>            <td>y</td>        <th>  R-squared:         </th> <td>   0.387</td> \n",
       "</tr>\n",
       "<tr>\n",
       "  <th>Model:</th>                   <td>OLS</td>       <th>  Adj. R-squared:    </th> <td>   0.386</td> \n",
       "</tr>\n",
       "<tr>\n",
       "  <th>Method:</th>             <td>Least Squares</td>  <th>  F-statistic:       </th> <td>   417.6</td> \n",
       "</tr>\n",
       "<tr>\n",
       "  <th>Date:</th>             <td>Sat, 13 May 2017</td> <th>  Prob (F-statistic):</th>  <td>  0.00</td>  \n",
       "</tr>\n",
       "<tr>\n",
       "  <th>Time:</th>                 <td>20:59:22</td>     <th>  Log-Likelihood:    </th> <td> -46502.</td> \n",
       "</tr>\n",
       "<tr>\n",
       "  <th>No. Observations:</th>      <td>  7293</td>      <th>  AIC:               </th> <td>9.303e+04</td>\n",
       "</tr>\n",
       "<tr>\n",
       "  <th>Df Residuals:</th>          <td>  7281</td>      <th>  BIC:               </th> <td>9.311e+04</td>\n",
       "</tr>\n",
       "<tr>\n",
       "  <th>Df Model:</th>              <td>    11</td>      <th>                     </th>     <td> </td>    \n",
       "</tr>\n",
       "<tr>\n",
       "  <th>Covariance Type:</th>      <td>nonrobust</td>    <th>                     </th>     <td> </td>    \n",
       "</tr>\n",
       "</table>\n",
       "<table class=\"simpletable\">\n",
       "<tr>\n",
       "    <td></td>       <th>coef</th>     <th>std err</th>      <th>t</th>      <th>P>|t|</th> <th>[95.0% Conf. Int.]</th> \n",
       "</tr>\n",
       "<tr>\n",
       "  <th>const</th> <td>-1.648e+05</td> <td> 6753.169</td> <td>  -24.401</td> <td> 0.000</td> <td>-1.78e+05 -1.52e+05</td>\n",
       "</tr>\n",
       "<tr>\n",
       "  <th>x1</th>    <td>   -5.1957</td> <td>    6.433</td> <td>   -0.808</td> <td> 0.419</td> <td>  -17.806     7.415</td>\n",
       "</tr>\n",
       "<tr>\n",
       "  <th>x2</th>    <td>  -13.9316</td> <td>   10.277</td> <td>   -1.356</td> <td> 0.175</td> <td>  -34.077     6.214</td>\n",
       "</tr>\n",
       "<tr>\n",
       "  <th>x3</th>    <td>    0.1867</td> <td>    3.714</td> <td>    0.050</td> <td> 0.960</td> <td>   -7.094     7.467</td>\n",
       "</tr>\n",
       "<tr>\n",
       "  <th>x4</th>    <td>   -4.1130</td> <td>    2.951</td> <td>   -1.394</td> <td> 0.163</td> <td>   -9.898     1.672</td>\n",
       "</tr>\n",
       "<tr>\n",
       "  <th>x5</th>    <td>    6.1466</td> <td>    0.207</td> <td>   29.698</td> <td> 0.000</td> <td>    5.741     6.552</td>\n",
       "</tr>\n",
       "<tr>\n",
       "  <th>x6</th>    <td>   -2.0633</td> <td>    0.109</td> <td>  -18.880</td> <td> 0.000</td> <td>   -2.278    -1.849</td>\n",
       "</tr>\n",
       "<tr>\n",
       "  <th>x7</th>    <td>    0.5401</td> <td>    0.221</td> <td>    2.445</td> <td> 0.015</td> <td>    0.107     0.973</td>\n",
       "</tr>\n",
       "<tr>\n",
       "  <th>x8</th>    <td>   81.9372</td> <td>    3.357</td> <td>   24.408</td> <td> 0.000</td> <td>   75.356    88.518</td>\n",
       "</tr>\n",
       "<tr>\n",
       "  <th>x9</th>    <td>    9.0823</td> <td>    2.084</td> <td>    4.357</td> <td> 0.000</td> <td>    4.996    13.168</td>\n",
       "</tr>\n",
       "<tr>\n",
       "  <th>x10</th>   <td>    0.5991</td> <td>    0.304</td> <td>    1.971</td> <td> 0.049</td> <td>    0.003     1.195</td>\n",
       "</tr>\n",
       "<tr>\n",
       "  <th>x11</th>   <td>    7.8096</td> <td>    0.257</td> <td>   30.332</td> <td> 0.000</td> <td>    7.305     8.314</td>\n",
       "</tr>\n",
       "</table>\n",
       "<table class=\"simpletable\">\n",
       "<tr>\n",
       "  <th>Omnibus:</th>       <td>1416.702</td> <th>  Durbin-Watson:     </th> <td>   1.984</td>\n",
       "</tr>\n",
       "<tr>\n",
       "  <th>Prob(Omnibus):</th>  <td> 0.000</td>  <th>  Jarque-Bera (JB):  </th> <td>2722.277</td>\n",
       "</tr>\n",
       "<tr>\n",
       "  <th>Skew:</th>           <td> 1.187</td>  <th>  Prob(JB):          </th> <td>    0.00</td>\n",
       "</tr>\n",
       "<tr>\n",
       "  <th>Kurtosis:</th>       <td> 4.823</td>  <th>  Cond. No.          </th> <td>8.16e+06</td>\n",
       "</tr>\n",
       "</table>"
      ],
      "text/plain": [
       "<class 'statsmodels.iolib.summary.Summary'>\n",
       "\"\"\"\n",
       "                            OLS Regression Results                            \n",
       "==============================================================================\n",
       "Dep. Variable:                      y   R-squared:                       0.387\n",
       "Model:                            OLS   Adj. R-squared:                  0.386\n",
       "Method:                 Least Squares   F-statistic:                     417.6\n",
       "Date:                Sat, 13 May 2017   Prob (F-statistic):               0.00\n",
       "Time:                        20:59:22   Log-Likelihood:                -46502.\n",
       "No. Observations:                7293   AIC:                         9.303e+04\n",
       "Df Residuals:                    7281   BIC:                         9.311e+04\n",
       "Df Model:                          11                                         \n",
       "Covariance Type:            nonrobust                                         \n",
       "==============================================================================\n",
       "                 coef    std err          t      P>|t|      [95.0% Conf. Int.]\n",
       "------------------------------------------------------------------------------\n",
       "const      -1.648e+05   6753.169    -24.401      0.000     -1.78e+05 -1.52e+05\n",
       "x1            -5.1957      6.433     -0.808      0.419       -17.806     7.415\n",
       "x2           -13.9316     10.277     -1.356      0.175       -34.077     6.214\n",
       "x3             0.1867      3.714      0.050      0.960        -7.094     7.467\n",
       "x4            -4.1130      2.951     -1.394      0.163        -9.898     1.672\n",
       "x5             6.1466      0.207     29.698      0.000         5.741     6.552\n",
       "x6            -2.0633      0.109    -18.880      0.000        -2.278    -1.849\n",
       "x7             0.5401      0.221      2.445      0.015         0.107     0.973\n",
       "x8            81.9372      3.357     24.408      0.000        75.356    88.518\n",
       "x9             9.0823      2.084      4.357      0.000         4.996    13.168\n",
       "x10            0.5991      0.304      1.971      0.049         0.003     1.195\n",
       "x11            7.8096      0.257     30.332      0.000         7.305     8.314\n",
       "==============================================================================\n",
       "Omnibus:                     1416.702   Durbin-Watson:                   1.984\n",
       "Prob(Omnibus):                  0.000   Jarque-Bera (JB):             2722.277\n",
       "Skew:                           1.187   Prob(JB):                         0.00\n",
       "Kurtosis:                       4.823   Cond. No.                     8.16e+06\n",
       "==============================================================================\n",
       "\n",
       "Warnings:\n",
       "[1] Standard Errors assume that the covariance matrix of the errors is correctly specified.\n",
       "[2] The condition number is large, 8.16e+06. This might indicate that there are\n",
       "strong multicollinearity or other numerical problems.\n",
       "\"\"\""
      ]
     },
     "execution_count": 41,
     "metadata": {},
     "output_type": "execute_result"
    }
   ],
   "source": [
    "X = sm.add_constant(train2)\n",
    "result = sm.OLS(train_target2, X).fit()\n",
    "result.summary()"
   ]
  },
  {
   "cell_type": "markdown",
   "metadata": {},
   "source": [
    "#### remove insignificant variables one by one and see other variables' significance"
   ]
  },
  {
   "cell_type": "code",
   "execution_count": 42,
   "metadata": {
    "collapsed": false
   },
   "outputs": [
    {
     "data": {
      "text/html": [
       "<table class=\"simpletable\">\n",
       "<caption>OLS Regression Results</caption>\n",
       "<tr>\n",
       "  <th>Dep. Variable:</th>            <td>y</td>        <th>  R-squared:         </th> <td>   0.386</td> \n",
       "</tr>\n",
       "<tr>\n",
       "  <th>Model:</th>                   <td>OLS</td>       <th>  Adj. R-squared:    </th> <td>   0.386</td> \n",
       "</tr>\n",
       "<tr>\n",
       "  <th>Method:</th>             <td>Least Squares</td>  <th>  F-statistic:       </th> <td>   655.4</td> \n",
       "</tr>\n",
       "<tr>\n",
       "  <th>Date:</th>             <td>Sat, 13 May 2017</td> <th>  Prob (F-statistic):</th>  <td>  0.00</td>  \n",
       "</tr>\n",
       "<tr>\n",
       "  <th>Time:</th>                 <td>20:59:23</td>     <th>  Log-Likelihood:    </th> <td> -46505.</td> \n",
       "</tr>\n",
       "<tr>\n",
       "  <th>No. Observations:</th>      <td>  7293</td>      <th>  AIC:               </th> <td>9.303e+04</td>\n",
       "</tr>\n",
       "<tr>\n",
       "  <th>Df Residuals:</th>          <td>  7285</td>      <th>  BIC:               </th> <td>9.308e+04</td>\n",
       "</tr>\n",
       "<tr>\n",
       "  <th>Df Model:</th>              <td>     7</td>      <th>                     </th>     <td> </td>    \n",
       "</tr>\n",
       "<tr>\n",
       "  <th>Covariance Type:</th>      <td>nonrobust</td>    <th>                     </th>     <td> </td>    \n",
       "</tr>\n",
       "</table>\n",
       "<table class=\"simpletable\">\n",
       "<tr>\n",
       "    <td></td>       <th>coef</th>     <th>std err</th>      <th>t</th>      <th>P>|t|</th> <th>[95.0% Conf. Int.]</th> \n",
       "</tr>\n",
       "<tr>\n",
       "  <th>const</th> <td>-1.644e+05</td> <td> 6748.950</td> <td>  -24.353</td> <td> 0.000</td> <td>-1.78e+05 -1.51e+05</td>\n",
       "</tr>\n",
       "<tr>\n",
       "  <th>x1</th>    <td>    6.1493</td> <td>    0.207</td> <td>   29.746</td> <td> 0.000</td> <td>    5.744     6.555</td>\n",
       "</tr>\n",
       "<tr>\n",
       "  <th>x2</th>    <td>   -2.1302</td> <td>    0.097</td> <td>  -21.917</td> <td> 0.000</td> <td>   -2.321    -1.940</td>\n",
       "</tr>\n",
       "<tr>\n",
       "  <th>x3</th>    <td>    0.4962</td> <td>    0.218</td> <td>    2.272</td> <td> 0.023</td> <td>    0.068     0.924</td>\n",
       "</tr>\n",
       "<tr>\n",
       "  <th>x4</th>    <td>   81.7243</td> <td>    3.355</td> <td>   24.360</td> <td> 0.000</td> <td>   75.148    88.301</td>\n",
       "</tr>\n",
       "<tr>\n",
       "  <th>x5</th>    <td>    7.5025</td> <td>    0.514</td> <td>   14.604</td> <td> 0.000</td> <td>    6.495     8.510</td>\n",
       "</tr>\n",
       "<tr>\n",
       "  <th>x6</th>    <td>    0.6103</td> <td>    0.304</td> <td>    2.008</td> <td> 0.045</td> <td>    0.014     1.206</td>\n",
       "</tr>\n",
       "<tr>\n",
       "  <th>x7</th>    <td>    7.7774</td> <td>    0.256</td> <td>   30.388</td> <td> 0.000</td> <td>    7.276     8.279</td>\n",
       "</tr>\n",
       "</table>\n",
       "<table class=\"simpletable\">\n",
       "<tr>\n",
       "  <th>Omnibus:</th>       <td>1428.091</td> <th>  Durbin-Watson:     </th> <td>   1.986</td>\n",
       "</tr>\n",
       "<tr>\n",
       "  <th>Prob(Omnibus):</th>  <td> 0.000</td>  <th>  Jarque-Bera (JB):  </th> <td>2761.799</td>\n",
       "</tr>\n",
       "<tr>\n",
       "  <th>Skew:</th>           <td> 1.193</td>  <th>  Prob(JB):          </th> <td>    0.00</td>\n",
       "</tr>\n",
       "<tr>\n",
       "  <th>Kurtosis:</th>       <td> 4.844</td>  <th>  Cond. No.          </th> <td>8.15e+06</td>\n",
       "</tr>\n",
       "</table>"
      ],
      "text/plain": [
       "<class 'statsmodels.iolib.summary.Summary'>\n",
       "\"\"\"\n",
       "                            OLS Regression Results                            \n",
       "==============================================================================\n",
       "Dep. Variable:                      y   R-squared:                       0.386\n",
       "Model:                            OLS   Adj. R-squared:                  0.386\n",
       "Method:                 Least Squares   F-statistic:                     655.4\n",
       "Date:                Sat, 13 May 2017   Prob (F-statistic):               0.00\n",
       "Time:                        20:59:23   Log-Likelihood:                -46505.\n",
       "No. Observations:                7293   AIC:                         9.303e+04\n",
       "Df Residuals:                    7285   BIC:                         9.308e+04\n",
       "Df Model:                           7                                         \n",
       "Covariance Type:            nonrobust                                         \n",
       "==============================================================================\n",
       "                 coef    std err          t      P>|t|      [95.0% Conf. Int.]\n",
       "------------------------------------------------------------------------------\n",
       "const      -1.644e+05   6748.950    -24.353      0.000     -1.78e+05 -1.51e+05\n",
       "x1             6.1493      0.207     29.746      0.000         5.744     6.555\n",
       "x2            -2.1302      0.097    -21.917      0.000        -2.321    -1.940\n",
       "x3             0.4962      0.218      2.272      0.023         0.068     0.924\n",
       "x4            81.7243      3.355     24.360      0.000        75.148    88.301\n",
       "x5             7.5025      0.514     14.604      0.000         6.495     8.510\n",
       "x6             0.6103      0.304      2.008      0.045         0.014     1.206\n",
       "x7             7.7774      0.256     30.388      0.000         7.276     8.279\n",
       "==============================================================================\n",
       "Omnibus:                     1428.091   Durbin-Watson:                   1.986\n",
       "Prob(Omnibus):                  0.000   Jarque-Bera (JB):             2761.799\n",
       "Skew:                           1.193   Prob(JB):                         0.00\n",
       "Kurtosis:                       4.844   Cond. No.                     8.15e+06\n",
       "==============================================================================\n",
       "\n",
       "Warnings:\n",
       "[1] Standard Errors assume that the covariance matrix of the errors is correctly specified.\n",
       "[2] The condition number is large, 8.15e+06. This might indicate that there are\n",
       "strong multicollinearity or other numerical problems.\n",
       "\"\"\""
      ]
     },
     "execution_count": 42,
     "metadata": {},
     "output_type": "execute_result"
    }
   ],
   "source": [
    "X = sm.add_constant(train2[:, [4,5,6,7,8,9,10]])\n",
    "result = sm.OLS(train_target2, X).fit()\n",
    "result.summary()"
   ]
  },
  {
   "cell_type": "code",
   "execution_count": 43,
   "metadata": {
    "collapsed": false
   },
   "outputs": [
    {
     "name": "stdout",
     "output_type": "stream",
     "text": [
      "[  6.14928396  -2.13019679   0.49615641  81.7242977    7.50248565\n",
      "   0.61032981   7.77743056]\n"
     ]
    }
   ],
   "source": [
    "lr = LinearRegression(fit_intercept=True)\n",
    "lr.fit(train2[:, [4,5,6,7,8,9,10]], train_target2)\n",
    "print lr.coef_"
   ]
  },
  {
   "cell_type": "code",
   "execution_count": 44,
   "metadata": {
    "collapsed": false
   },
   "outputs": [
    {
     "data": {
      "image/png": "[encoded data removed]",
      "text/plain": [
       "<matplotlib.figure.Figure at 0x1011ac950>"
      ]
     },
     "metadata": {},
     "output_type": "display_data"
    }
   ],
   "source": [
    "plt.scatter(lr.predict(train2[:, [4,5,6,7,8,9,10]]), lr.predict(train2[:, [4,5,6,7,8,9,10]])-train_target2, \n",
    "            alpha = 0.5)\n",
    "plt.show()"
   ]
  },
  {
   "cell_type": "markdown",
   "metadata": {},
   "source": [
    "diagnostics looks not good"
   ]
  },
  {
   "cell_type": "markdown",
   "metadata": {},
   "source": [
    "### Baseline"
   ]
  },
  {
   "cell_type": "code",
   "execution_count": 45,
   "metadata": {
    "collapsed": false
   },
   "outputs": [
    {
     "name": "stdout",
     "output_type": "stream",
     "text": [
      "RMLSE using average demand:  1.58658133807\n"
     ]
    }
   ],
   "source": [
    "# calculate error of predicting baseline (everyday count of rental is the same. \n",
    "# Everage Rental demand from training data)\n",
    "avg_demand = np.mean(train_target)\n",
    "base_rmlse = cal_rmlse(avg_demand, validation_target)\n",
    "print \"RMLSE using average demand: \", base_rmlse"
   ]
  },
  {
   "cell_type": "markdown",
   "metadata": {},
   "source": [
    "### Model 2: Random Forests"
   ]
  },
  {
   "cell_type": "markdown",
   "metadata": {},
   "source": [
    "#### Fit Random Forests"
   ]
  },
  {
   "cell_type": "code",
   "execution_count": 132,
   "metadata": {
    "collapsed": false
   },
   "outputs": [
    {
     "name": "stdout",
     "output_type": "stream",
     "text": [
      "0.600025145968\n"
     ]
    }
   ],
   "source": [
    "model = RandomForestRegressor(n_estimators = 50, max_depth = 5, oob_score = True, n_jobs = -1,random_state =0,\n",
    "                              max_features = \"auto\", min_samples_leaf = 10)\n",
    "model.fit(train, train_target)\n",
    "print cal_rmlse(model.predict(validation), validation_target)"
   ]
  },
  {
   "cell_type": "code",
   "execution_count": 133,
   "metadata": {
    "collapsed": false
   },
   "outputs": [
    {
     "name": "stdout",
     "output_type": "stream",
     "text": [
      "0.59433717218\n"
     ]
    }
   ],
   "source": [
    "model = RandomForestRegressor(n_estimators = 50, max_depth = 5, oob_score = True, n_jobs = -1,random_state =0,\n",
    "                              max_features = \"auto\", min_samples_leaf = 10)\n",
    "model.fit(train2, train_target2)\n",
    "print cal_rmlse(model.predict(validation2), validation_target2)"
   ]
  },
  {
   "cell_type": "code",
   "execution_count": 134,
   "metadata": {
    "collapsed": false
   },
   "outputs": [
    {
     "name": "stdout",
     "output_type": "stream",
     "text": [
      "0.592816354438\n"
     ]
    }
   ],
   "source": [
    "# increase n_estimator can increase the prediction result\n",
    "model = RandomForestRegressor(n_estimators = 500, max_depth = 5, oob_score = True, n_jobs = -1,random_state =0,\n",
    "                              max_features = \"auto\", min_samples_leaf = 10)\n",
    "model.fit(train2, train_target2)\n",
    "print cal_rmlse(model.predict(validation2), validation_target2)"
   ]
  },
  {
   "cell_type": "code",
   "execution_count": 136,
   "metadata": {
    "collapsed": false
   },
   "outputs": [
    {
     "name": "stdout",
     "output_type": "stream",
     "text": [
      "Accuracy: 0.31049 (+/- 0.03)\n",
      "Accuracy: 0.52688 (+/- 0.04)\n",
      "Accuracy: 0.66596 (+/- 0.03)\n",
      "Accuracy: 0.92374 (+/- 0.01)\n",
      "Accuracy: 0.93628 (+/- 0.01)\n",
      "Accuracy: 0.93710 (+/- 0.01)\n",
      "Accuracy: 0.93674 (+/- 0.01)\n"
     ]
    }
   ],
   "source": [
    "# max_depth selection\n",
    "sample_max = [1,3,5,10,15, 20, 30]\n",
    "for s in sample_max:\n",
    "    rf = RandomForestRegressor(n_estimators=50, max_depth=s, random_state=0, max_features='auto', oob_score=True)\n",
    "    rf.fit(train, train_target)\n",
    "    scores = cross_val_score(rf, train, train_target, cv=10)\n",
    "    print (\"Accuracy: %0.5f (+/- %0.2f)\" % (scores.mean(), scores.std() * 2))"
   ]
  },
  {
   "cell_type": "code",
   "execution_count": 137,
   "metadata": {
    "collapsed": false
   },
   "outputs": [
    {
     "name": "stdout",
     "output_type": "stream",
     "text": [
      "Accuracy: 0.93220 (+/- 0.02)\n",
      "Accuracy: 0.92087 (+/- 0.02)\n",
      "Accuracy: 0.89662 (+/- 0.02)\n",
      "Accuracy: 0.87860 (+/- 0.02)\n",
      "Accuracy: 0.85152 (+/- 0.02)\n",
      "Accuracy: 0.82124 (+/- 0.02)\n"
     ]
    }
   ],
   "source": [
    "# cv min_samples_leaf\n",
    "sample_leaf = [5,10,20,30,40,50]\n",
    "for leaf in sample_leaf:\n",
    "    rf = RandomForestRegressor(n_estimators=50, max_depth=20, random_state=0, max_features='auto',\n",
    "                                min_samples_leaf = leaf, oob_score=True)\n",
    "    rf.fit(train, train_target)\n",
    "    scores = cross_val_score(rf, train, train_target, cv=10)\n",
    "    print (\"Accuracy: %0.5f (+/- %0.2f)\" % (scores.mean(), scores.std() * 2))"
   ]
  },
  {
   "cell_type": "code",
   "execution_count": 138,
   "metadata": {
    "collapsed": false
   },
   "outputs": [
    {
     "name": "stdout",
     "output_type": "stream",
     "text": [
      "max_depth 9, min_samples_leaf 30, n_estimators 500 0.374477240691\n"
     ]
    }
   ],
   "source": [
    "# a final model with max_depth 9 and min_samples_leaf 30 and n_estimators 500\n",
    "model = RandomForestRegressor(n_estimators = 500, max_depth = 20, oob_score = True, n_jobs = -1,random_state =0,\n",
    "                              max_features = \"auto\", min_samples_leaf = 5)\n",
    "model.fit(train2, train_target2)\n",
    "print \"max_depth 9, min_samples_leaf 30, n_estimators 500\", cal_rmlse(model.predict(validation2), validation_target2)"
   ]
  },
  {
   "cell_type": "code",
   "execution_count": 139,
   "metadata": {
    "collapsed": false
   },
   "outputs": [
    {
     "name": "stdout",
     "output_type": "stream",
     "text": [
      "Parameters: max_depth 7, min_samples_leaf 10, n_estimators 500\n",
      "without one-hot-encoding rmlse:  0.360664466931\n"
     ]
    }
   ],
   "source": [
    "# a final model (without one-hot-encoding) with max_depth 9 and min_samples_leaf 30 and n_estimators 500\n",
    "model = RandomForestRegressor(n_estimators = 500, max_depth = 20, oob_score = True, n_jobs = -1,random_state =0,\n",
    "                              max_features = \"auto\", min_samples_leaf = 5)\n",
    "model.fit(train, train_target)\n",
    "print \"Parameters: max_depth 7, min_samples_leaf 10, n_estimators 500\"\n",
    "print \"without one-hot-encoding rmlse: \", cal_rmlse(model.predict(validation), validation_target)"
   ]
  },
  {
   "cell_type": "markdown",
   "metadata": {},
   "source": [
    "This is better."
   ]
  },
  {
   "cell_type": "markdown",
   "metadata": {},
   "source": [
    "### Model 3: Gradient Boosting\n",
    "#### Define a function help with model evaluation"
   ]
  },
  {
   "cell_type": "code",
   "execution_count": 173,
   "metadata": {
    "collapsed": false
   },
   "outputs": [],
   "source": [
    "def modelfit(alg, dtrain, dtrain_target, dvalidation, dvalidation_target, col_names, performCV = True, printFeatureImportance = True, cv_folds = 5):\n",
    "    # fit the algorithm on the data\n",
    "    alg.fit(dtrain, dtrain_target)\n",
    "    # predict training dataset\n",
    "    dtrain_predictions = alg.predict(dtrain)\n",
    "    dtrain_predictions[dtrain_predictions<0] = 0\n",
    "    \n",
    "    dvalidation_predictions = alg.predict(dvalidation)\n",
    "    dvalidation_predictions[dvalidation_predictions<0] = 0\n",
    "    \n",
    "    # perform cross-validation\n",
    "    if performCV:\n",
    "        cv_score = cross_val_score(alg, dtrain, dtrain_target, cv = cv_folds)\n",
    "\n",
    "    print \"Model report: \"\n",
    "    print \"RMLSE for Training Data:\", cal_rmlse(dtrain_predictions, dtrain_target)\n",
    "    print \"RMLSE for Validation Data:\",cal_rmlse(dvalidation_predictions, dvalidation_target)\n",
    "    \n",
    "    if performCV:\n",
    "        print \"CV Score : Mean - %.7g | Std - %.7g | Min - %.7g | Max - %.7g\" % (np.mean(cv_score),np.std(cv_score),np.min(cv_score),np.max(cv_score))\n",
    "        \n",
    "#     Print Feature Importance:\n",
    "    if printFeatureImportance:\n",
    "        feat_imp = pd.Series(alg.feature_importances_, list(col_names)).sort_values(ascending=False)\n",
    "        feat_imp.plot(kind='bar', title='Feature Importances')\n",
    "        plt.ylabel('Feature Importance Score')   "
   ]
  },
  {
   "cell_type": "markdown",
   "metadata": {},
   "source": [
    "#### baseline model (default gradient boosting setting)"
   ]
  },
  {
   "cell_type": "code",
   "execution_count": 175,
   "metadata": {
    "collapsed": false
   },
   "outputs": [
    {
     "name": "stdout",
     "output_type": "stream",
     "text": [
      "Model report: \n",
      "RMLSE for Training Data: 0.783449282615\n",
      "RMLSE for Validation Data: 0.765023948161\n",
      "CV Score : Mean - 0.8567024 | Std - 0.008660531 | Min - 0.8430875 | Max - 0.8687586\n"
     ]
    },
    {
     "data": {
      "image/png": "[encoded data removed]",
      "text/plain": [
       "<matplotlib.figure.Figure at 0x116c27a90>"
      ]
     },
     "metadata": {},
     "output_type": "display_data"
    }
   ],
   "source": [
    "gbm0 = GradientBoostingRegressor(random_state = 0)\n",
    "modelfit(gbm0, train, train_target, validation, validation_target, col_names[col_names != 'count'])"
   ]
  },
  {
   "cell_type": "markdown",
   "metadata": {},
   "source": [
    "#### Parameter Tuning\n",
    "##### initial model"
   ]
  },
  {
   "cell_type": "code",
   "execution_count": 178,
   "metadata": {
    "collapsed": false
   },
   "outputs": [
    {
     "name": "stdout",
     "output_type": "stream",
     "text": [
      "Model report: \n",
      "RMLSE for Training Data: 0.262641803578\n",
      "RMLSE for Validation Data: 0.356271131593\n",
      "CV Score : Mean - 0.9429453 | Std - 0.006246919 | Min - 0.9312914 | Max - 0.9496747\n"
     ]
    },
    {
     "data": {
      "image/png": "[encoded data removed]",
      "text/plain": [
       "<matplotlib.figure.Figure at 0x114fb1810>"
      ]
     },
     "metadata": {},
     "output_type": "display_data"
    }
   ],
   "source": [
    "params = {'n_estimators': 500, 'max_depth': 8, 'min_samples_split': 2,\n",
    "          'learning_rate': 0.01, 'loss': 'ls', 'random_state': 0}\n",
    "clf = GradientBoostingRegressor(**params)\n",
    "modelfit(clf, train, train_target,validation, validation_target, col_names[col_names != 'count'])"
   ]
  },
  {
   "cell_type": "code",
   "execution_count": 179,
   "metadata": {
    "collapsed": false
   },
   "outputs": [
    {
     "data": {
      "text/plain": [
       "GridSearchCV(cv=5, error_score='raise',\n",
       "       estimator=GradientBoostingRegressor(alpha=0.9, criterion='friedman_mse', init=None,\n",
       "             learning_rate=0.01, loss='ls', max_depth=8,\n",
       "             max_features='sqrt', max_leaf_nodes=None,\n",
       "             min_impurity_split=1e-07, min_samples_leaf=50,\n",
       "             min_samples_split=2, min_weight_fraction_leaf=0.0,\n",
       "             n_estimators=100, presort='auto', random_state=0,\n",
       "             subsample=1.0, verbose=0, warm_start=False),\n",
       "       fit_params={}, iid=False, n_jobs=1,\n",
       "       param_grid={'n_estimators': [200, 210, 220, 230, 240, 250, 260, 270, 280, 290, 300, 310, 320, 330, 340, 350, 360, 370, 380, 390, 400, 410, 420, 430, 440, 450, 460, 470, 480, 490, 500, 510, 520, 530, 540, 550, 560, 570, 580, 590]},\n",
       "       pre_dispatch='2*n_jobs', refit=True, scoring=None, verbose=0)"
      ]
     },
     "execution_count": 179,
     "metadata": {},
     "output_type": "execute_result"
    }
   ],
   "source": [
    "param_test1 = {'n_estimators': range(200, 600, 10)}\n",
    "gsearch1 = GridSearchCV(estimator=GradientBoostingRegressor(learning_rate = 0.01, min_samples_split=2, \n",
    "                                                            min_samples_leaf=50, max_depth = 8, max_features = 'sqrt',\n",
    "                                                           random_state = 0), \n",
    "                        param_grid = param_test1, iid = False, cv = 5)\n",
    "gsearch1.fit(train, train_target)"
   ]
  },
  {
   "cell_type": "code",
   "execution_count": 180,
   "metadata": {
    "collapsed": false
   },
   "outputs": [
    {
     "data": {
      "text/plain": [
       "([mean: 0.74918, std: 0.00827, params: {'n_estimators': 200},\n",
       "  mean: 0.75906, std: 0.00953, params: {'n_estimators': 210},\n",
       "  mean: 0.76744, std: 0.00914, params: {'n_estimators': 220},\n",
       "  mean: 0.77421, std: 0.00952, params: {'n_estimators': 230},\n",
       "  mean: 0.78194, std: 0.00932, params: {'n_estimators': 240},\n",
       "  mean: 0.78884, std: 0.00905, params: {'n_estimators': 250},\n",
       "  mean: 0.79558, std: 0.00878, params: {'n_estimators': 260},\n",
       "  mean: 0.80264, std: 0.00849, params: {'n_estimators': 270},\n",
       "  mean: 0.80905, std: 0.00903, params: {'n_estimators': 280},\n",
       "  mean: 0.81544, std: 0.00879, params: {'n_estimators': 290},\n",
       "  mean: 0.82046, std: 0.00863, params: {'n_estimators': 300},\n",
       "  mean: 0.82438, std: 0.00869, params: {'n_estimators': 310},\n",
       "  mean: 0.82834, std: 0.00863, params: {'n_estimators': 320},\n",
       "  mean: 0.83223, std: 0.00827, params: {'n_estimators': 330},\n",
       "  mean: 0.83688, std: 0.00804, params: {'n_estimators': 340},\n",
       "  mean: 0.84041, std: 0.00778, params: {'n_estimators': 350},\n",
       "  mean: 0.84495, std: 0.00739, params: {'n_estimators': 360},\n",
       "  mean: 0.84903, std: 0.00723, params: {'n_estimators': 370},\n",
       "  mean: 0.85164, std: 0.00696, params: {'n_estimators': 380},\n",
       "  mean: 0.85495, std: 0.00700, params: {'n_estimators': 390},\n",
       "  mean: 0.85866, std: 0.00669, params: {'n_estimators': 400},\n",
       "  mean: 0.86144, std: 0.00657, params: {'n_estimators': 410},\n",
       "  mean: 0.86423, std: 0.00645, params: {'n_estimators': 420},\n",
       "  mean: 0.86725, std: 0.00661, params: {'n_estimators': 430},\n",
       "  mean: 0.86929, std: 0.00664, params: {'n_estimators': 440},\n",
       "  mean: 0.87156, std: 0.00661, params: {'n_estimators': 450},\n",
       "  mean: 0.87331, std: 0.00636, params: {'n_estimators': 460},\n",
       "  mean: 0.87565, std: 0.00617, params: {'n_estimators': 470},\n",
       "  mean: 0.87761, std: 0.00629, params: {'n_estimators': 480},\n",
       "  mean: 0.87963, std: 0.00644, params: {'n_estimators': 490},\n",
       "  mean: 0.88187, std: 0.00628, params: {'n_estimators': 500},\n",
       "  mean: 0.88389, std: 0.00631, params: {'n_estimators': 510},\n",
       "  mean: 0.88554, std: 0.00639, params: {'n_estimators': 520},\n",
       "  mean: 0.88695, std: 0.00659, params: {'n_estimators': 530},\n",
       "  mean: 0.88898, std: 0.00610, params: {'n_estimators': 540},\n",
       "  mean: 0.89073, std: 0.00608, params: {'n_estimators': 550},\n",
       "  mean: 0.89187, std: 0.00591, params: {'n_estimators': 560},\n",
       "  mean: 0.89334, std: 0.00599, params: {'n_estimators': 570},\n",
       "  mean: 0.89501, std: 0.00580, params: {'n_estimators': 580},\n",
       "  mean: 0.89673, std: 0.00569, params: {'n_estimators': 590}],\n",
       " {'n_estimators': 590},\n",
       " 0.896727880494074)"
      ]
     },
     "execution_count": 180,
     "metadata": {},
     "output_type": "execute_result"
    }
   ],
   "source": [
    "gsearch1.grid_scores_, gsearch1.best_params_, gsearch1.best_score_"
   ]
  },
  {
   "cell_type": "markdown",
   "metadata": {},
   "source": [
    "It seems the higher n_estimators, the higher the score is."
   ]
  },
  {
   "cell_type": "code",
   "execution_count": 181,
   "metadata": {
    "collapsed": false
   },
   "outputs": [
    {
     "data": {
      "text/plain": [
       "GridSearchCV(cv=5, error_score='raise',\n",
       "       estimator=GradientBoostingRegressor(alpha=0.9, criterion='friedman_mse', init=None,\n",
       "             learning_rate=0.01, loss='ls', max_depth=3,\n",
       "             max_features='sqrt', max_leaf_nodes=None,\n",
       "             min_impurity_split=1e-07, min_samples_leaf=50,\n",
       "             min_samples_split=2, min_weight_fraction_leaf=0.0,\n",
       "             n_estimators=500, presort='auto', random_state=0,\n",
       "             subsample=0.8, verbose=0, warm_start=False),\n",
       "       fit_params={}, iid=False, n_jobs=1,\n",
       "       param_grid={'min_samples_split': [200, 400, 600, 800, 1000], 'max_depth': [5, 7, 9, 11, 13, 15]},\n",
       "       pre_dispatch='2*n_jobs', refit=True, scoring=None, verbose=0)"
      ]
     },
     "execution_count": 181,
     "metadata": {},
     "output_type": "execute_result"
    }
   ],
   "source": [
    "# tuning tree parameters max_depth and min_sample_split\n",
    "param_test2 = {'max_depth':range(5,16,2), 'min_samples_split':range(200,1001,200)}\n",
    "gsearch2 = GridSearchCV(estimator=GradientBoostingRegressor(n_estimators = 500, learning_rate = 0.01, \n",
    "                                                            min_samples_leaf=50, max_features = 'sqrt',\n",
    "                                                           random_state = 0, subsample = 0.8), \n",
    "                        param_grid = param_test2, iid = False, cv = 5)\n",
    "gsearch2.fit(train, train_target)"
   ]
  },
  {
   "cell_type": "code",
   "execution_count": 182,
   "metadata": {
    "collapsed": false
   },
   "outputs": [
    {
     "data": {
      "text/plain": [
       "([mean: 0.78686, std: 0.00839, params: {'min_samples_split': 200, 'max_depth': 5},\n",
       "  mean: 0.76317, std: 0.00595, params: {'min_samples_split': 400, 'max_depth': 5},\n",
       "  mean: 0.74425, std: 0.00731, params: {'min_samples_split': 600, 'max_depth': 5},\n",
       "  mean: 0.72738, std: 0.00882, params: {'min_samples_split': 800, 'max_depth': 5},\n",
       "  mean: 0.71058, std: 0.00585, params: {'min_samples_split': 1000, 'max_depth': 5},\n",
       "  mean: 0.84507, std: 0.00389, params: {'min_samples_split': 200, 'max_depth': 7},\n",
       "  mean: 0.81096, std: 0.00562, params: {'min_samples_split': 400, 'max_depth': 7},\n",
       "  mean: 0.77842, std: 0.00648, params: {'min_samples_split': 600, 'max_depth': 7},\n",
       "  mean: 0.74680, std: 0.00685, params: {'min_samples_split': 800, 'max_depth': 7},\n",
       "  mean: 0.72145, std: 0.00656, params: {'min_samples_split': 1000, 'max_depth': 7},\n",
       "  mean: 0.86395, std: 0.00261, params: {'min_samples_split': 200, 'max_depth': 9},\n",
       "  mean: 0.82138, std: 0.00472, params: {'min_samples_split': 400, 'max_depth': 9},\n",
       "  mean: 0.78334, std: 0.00671, params: {'min_samples_split': 600, 'max_depth': 9},\n",
       "  mean: 0.74879, std: 0.00761, params: {'min_samples_split': 800, 'max_depth': 9},\n",
       "  mean: 0.72248, std: 0.00590, params: {'min_samples_split': 1000, 'max_depth': 9},\n",
       "  mean: 0.86789, std: 0.00299, params: {'min_samples_split': 200, 'max_depth': 11},\n",
       "  mean: 0.82385, std: 0.00509, params: {'min_samples_split': 400, 'max_depth': 11},\n",
       "  mean: 0.78479, std: 0.00766, params: {'min_samples_split': 600, 'max_depth': 11},\n",
       "  mean: 0.74915, std: 0.00762, params: {'min_samples_split': 800, 'max_depth': 11},\n",
       "  mean: 0.72253, std: 0.00588, params: {'min_samples_split': 1000, 'max_depth': 11},\n",
       "  mean: 0.86873, std: 0.00419, params: {'min_samples_split': 200, 'max_depth': 13},\n",
       "  mean: 0.82405, std: 0.00578, params: {'min_samples_split': 400, 'max_depth': 13},\n",
       "  mean: 0.78456, std: 0.00771, params: {'min_samples_split': 600, 'max_depth': 13},\n",
       "  mean: 0.74915, std: 0.00762, params: {'min_samples_split': 800, 'max_depth': 13},\n",
       "  mean: 0.72253, std: 0.00588, params: {'min_samples_split': 1000, 'max_depth': 13},\n",
       "  mean: 0.86920, std: 0.00618, params: {'min_samples_split': 200, 'max_depth': 15},\n",
       "  mean: 0.82417, std: 0.00569, params: {'min_samples_split': 400, 'max_depth': 15},\n",
       "  mean: 0.78456, std: 0.00771, params: {'min_samples_split': 600, 'max_depth': 15},\n",
       "  mean: 0.74915, std: 0.00762, params: {'min_samples_split': 800, 'max_depth': 15},\n",
       "  mean: 0.72253, std: 0.00588, params: {'min_samples_split': 1000, 'max_depth': 15}],\n",
       " {'max_depth': 15, 'min_samples_split': 200},\n",
       " 0.8691964747133559)"
      ]
     },
     "execution_count": 182,
     "metadata": {},
     "output_type": "execute_result"
    }
   ],
   "source": [
    "gsearch2.grid_scores_, gsearch2.best_params_, gsearch2.best_score_"
   ]
  },
  {
   "cell_type": "code",
   "execution_count": 172,
   "metadata": {
    "collapsed": false
   },
   "outputs": [
    {
     "name": "stdout",
     "output_type": "stream",
     "text": [
      "Model report: \n",
      "0.626955128101\n",
      "CV Score : Mean - 0.8853326 | Std - 0.007144662 | Min - 0.8726113 | Max - 0.8925767\n"
     ]
    },
    {
     "data": {
      "image/png": "[encoded data removed]",
      "text/plain": [
       "<matplotlib.figure.Figure at 0x117026d10>"
      ]
     },
     "metadata": {},
     "output_type": "display_data"
    }
   ],
   "source": [
    "params = {'n_estimators': 90, 'learning_rate': 0.1, 'min_samples_split':500,\n",
    "          'min_samples_leaf': 50, 'max_depth': 8, 'max_features': 'sqrt', 'random_state': 0}\n",
    "clf = GradientBoostingRegressor(**params)\n",
    "modelfit(clf, train, train_target, col_names[col_names != 'count'])"
   ]
  },
  {
   "cell_type": "code",
   "execution_count": 184,
   "metadata": {
    "collapsed": false
   },
   "outputs": [
    {
     "name": "stdout",
     "output_type": "stream",
     "text": [
      "Model report: \n",
      "RMLSE for Training Data: 0.555986624092\n",
      "RMLSE for Validation Data: 0.593019521189\n",
      "CV Score : Mean - 0.8691965 | Std - 0.006177891 | Min - 0.8596572 | Max - 0.877554\n"
     ]
    },
    {
     "data": {
      "image/png": "[encoded data removed]",
      "text/plain": [
       "<matplotlib.figure.Figure at 0x10a9fead0>"
      ]
     },
     "metadata": {},
     "output_type": "display_data"
    }
   ],
   "source": [
    "params = {'n_estimators': 500, 'max_depth': 15,'min_samples_leaf':50, 'min_samples_split': 200,\n",
    "          'learning_rate': 0.01, 'loss': 'ls', 'random_state': 0, 'max_features': 'sqrt', 'subsample': 0.8}\n",
    "                                                                                                    \n",
    "clf2 = GradientBoostingRegressor(**params)\n",
    "modelfit(clf2, train, train_target,validation, validation_target, col_names[col_names != 'count'])"
   ]
  },
  {
   "cell_type": "code",
   "execution_count": null,
   "metadata": {
    "collapsed": true
   },
   "outputs": [],
   "source": []
  }
 ],
 "metadata": {
  "anaconda-cloud": {},
  "kernelspec": {
   "display_name": "Python 2",
   "language": "python",
   "name": "python2"
  },
  "language_info": {
   "codemirror_mode": {
    "name": "ipython",
    "version": 2
   },
   "file_extension": ".py",
   "mimetype": "text/x-python",
   "name": "python",
   "nbconvert_exporter": "python",
   "pygments_lexer": "ipython2",
   "version": "2.7.13"
  }
 },
 "nbformat": 4,
 "nbformat_minor": 0
}
