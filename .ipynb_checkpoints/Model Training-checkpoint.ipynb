{
 "cells": [
  {
   "cell_type": "code",
   "execution_count": 15,
   "metadata": {
    "collapsed": false
   },
   "outputs": [],
   "source": [
    "import pandas as pd\n",
    "import numpy as np\n",
    "from matplotlib import pyplot as plt \n",
    "%matplotlib inline \n",
    "# from matplotlib.pylab import rcParams\n",
    "# rcParams['figure.figsize'] = 12, 4\n",
    "import timeit\n",
    "from sklearn.model_selection import cross_val_score\n",
    "from sklearn.preprocessing import OneHotEncoder\n",
    "import random\n",
    "import statsmodels.api as sm\n",
    "from sklearn.linear_model import LinearRegression\n",
    "from sklearn.ensemble import RandomForestRegressor\n",
    "from sklearn.ensemble import GradientBoostingRegressor\n",
    "from sklearn import model_selection, metrics\n",
    "from sklearn.grid_search import GridSearchCV # perform grid search\n",
    "from sklearn.model_selection import KFold "
   ]
  },
  {
   "cell_type": "code",
   "execution_count": 2,
   "metadata": {
    "collapsed": true
   },
   "outputs": [],
   "source": [
    "train_df = pd.read_csv(\"train.csv\", header=0)\n",
    "test_df = pd.read_csv(\"test.csv\", header = 0)\n",
    "\n",
    "# convert datetime column into multiple columns (year/month/day/hour/weekday)\n",
    "dt = pd.to_datetime(train_df[\"datetime\"]) # convert string to datetime type\n",
    "train_df[\"year\"] = dt.map(lambda x: x.year) \n",
    "train_df[\"month\"] = dt.map(lambda x: x.month)\n",
    "train_df[\"day\"] = dt.map(lambda x: x.day)\n",
    "train_df[\"hour\"] = dt.map(lambda x: x.hour)\n",
    "train_df[\"weekday\"] = dt.map(lambda x: x.weekday())\n",
    "train_df.head(3)\n"
   ]
  },
  {
   "cell_type": "code",
   "execution_count": 4,
   "metadata": {
    "collapsed": false
   },
   "outputs": [
    {
     "data": {
      "text/html": [
       "<div>\n",
       "<table border=\"1\" class=\"dataframe\">\n",
       "  <thead>\n",
       "    <tr style=\"text-align: right;\">\n",
       "      <th></th>\n",
       "      <th>datetime</th>\n",
       "      <th>season</th>\n",
       "      <th>holiday</th>\n",
       "      <th>workingday</th>\n",
       "      <th>weather</th>\n",
       "      <th>temp</th>\n",
       "      <th>atemp</th>\n",
       "      <th>humidity</th>\n",
       "      <th>windspeed</th>\n",
       "      <th>year</th>\n",
       "      <th>month</th>\n",
       "      <th>day</th>\n",
       "      <th>hour</th>\n",
       "      <th>weekday</th>\n",
       "    </tr>\n",
       "  </thead>\n",
       "  <tbody>\n",
       "    <tr>\n",
       "      <th>0</th>\n",
       "      <td>2011-01-20 00:00:00</td>\n",
       "      <td>1</td>\n",
       "      <td>0</td>\n",
       "      <td>1</td>\n",
       "      <td>1</td>\n",
       "      <td>10.66</td>\n",
       "      <td>11.365</td>\n",
       "      <td>56</td>\n",
       "      <td>26.0027</td>\n",
       "      <td>2011</td>\n",
       "      <td>1</td>\n",
       "      <td>20</td>\n",
       "      <td>0</td>\n",
       "      <td>3</td>\n",
       "    </tr>\n",
       "    <tr>\n",
       "      <th>1</th>\n",
       "      <td>2011-01-20 01:00:00</td>\n",
       "      <td>1</td>\n",
       "      <td>0</td>\n",
       "      <td>1</td>\n",
       "      <td>1</td>\n",
       "      <td>10.66</td>\n",
       "      <td>13.635</td>\n",
       "      <td>56</td>\n",
       "      <td>0.0000</td>\n",
       "      <td>2011</td>\n",
       "      <td>1</td>\n",
       "      <td>20</td>\n",
       "      <td>1</td>\n",
       "      <td>3</td>\n",
       "    </tr>\n",
       "    <tr>\n",
       "      <th>2</th>\n",
       "      <td>2011-01-20 02:00:00</td>\n",
       "      <td>1</td>\n",
       "      <td>0</td>\n",
       "      <td>1</td>\n",
       "      <td>1</td>\n",
       "      <td>10.66</td>\n",
       "      <td>13.635</td>\n",
       "      <td>56</td>\n",
       "      <td>0.0000</td>\n",
       "      <td>2011</td>\n",
       "      <td>1</td>\n",
       "      <td>20</td>\n",
       "      <td>2</td>\n",
       "      <td>3</td>\n",
       "    </tr>\n",
       "  </tbody>\n",
       "</table>\n",
       "</div>"
      ],
      "text/plain": [
       "              datetime  season  holiday  workingday  weather   temp   atemp  \\\n",
       "0  2011-01-20 00:00:00       1        0           1        1  10.66  11.365   \n",
       "1  2011-01-20 01:00:00       1        0           1        1  10.66  13.635   \n",
       "2  2011-01-20 02:00:00       1        0           1        1  10.66  13.635   \n",
       "\n",
       "   humidity  windspeed  year  month  day  hour  weekday  \n",
       "0        56    26.0027  2011      1   20     0        3  \n",
       "1        56     0.0000  2011      1   20     1        3  \n",
       "2        56     0.0000  2011      1   20     2        3  "
      ]
     },
     "execution_count": 4,
     "metadata": {},
     "output_type": "execute_result"
    }
   ],
   "source": [
    "# convert datetime column into multiple columns (year/month/day/hour/weekday)\n",
    "dt = pd.to_datetime(test_df[\"datetime\"]) # convert string to datetime type\n",
    "test_df[\"year\"] = dt.map(lambda x: x.year) \n",
    "test_df[\"month\"] = dt.map(lambda x: x.month)\n",
    "test_df[\"day\"] = dt.map(lambda x: x.day)\n",
    "test_df[\"hour\"] = dt.map(lambda x: x.hour)\n",
    "test_df[\"weekday\"] = dt.map(lambda x: x.weekday())\n",
    "test_df.head(3)"
   ]
  },
  {
   "cell_type": "markdown",
   "metadata": {},
   "source": [
    "### Remove outliers \n",
    "From the figure Perceived Temerature VS Actual Temperature, there are some points far away from the diagonal line. Therefore, we remove the data points in the following steps."
   ]
  },
  {
   "cell_type": "code",
   "execution_count": 5,
   "metadata": {
    "collapsed": true
   },
   "outputs": [],
   "source": [
    "train_clean = train_df[np.array(train_df[\"temp\"]/train_df[\"atemp\"])<2]"
   ]
  },
  {
   "cell_type": "code",
   "execution_count": 6,
   "metadata": {
    "collapsed": false
   },
   "outputs": [
    {
     "data": {
      "image/png": "[encoded data removed]",
      "text/plain": [
       "<matplotlib.figure.Figure at 0x115b87c10>"
      ]
     },
     "metadata": {},
     "output_type": "display_data"
    }
   ],
   "source": [
    "f, ax = plt.subplots(figsize=(5, 4))\n",
    "ax.scatter(train_clean[\"atemp\"], train_clean[\"temp\"], alpha = 0.2)\n",
    "ax.plot(ax.get_xlim(), ax.get_ylim(), ls=\"--\", c=\".3\", color = \"red\")\n",
    "ax.set_xlabel(\"Feels like Temperature\")\n",
    "ax.set_ylabel(\"Actual Temperature\")\n",
    "plt.title(\"Perceived Temperature VS Actual Temperature\")\n",
    "plt.show()"
   ]
  },
  {
   "cell_type": "markdown",
   "metadata": {},
   "source": [
    "### Model Training"
   ]
  },
  {
   "cell_type": "markdown",
   "metadata": {},
   "source": [
    "####  Feature Engineer\n",
    "In the following section, We conducted one-hot-encoding to converse all categorical variables into binary arrays."
   ]
  },
  {
   "cell_type": "code",
   "execution_count": 7,
   "metadata": {
    "collapsed": false
   },
   "outputs": [
    {
     "data": {
      "text/html": [
       "<div>\n",
       "<table border=\"1\" class=\"dataframe\">\n",
       "  <thead>\n",
       "    <tr style=\"text-align: right;\">\n",
       "      <th></th>\n",
       "      <th>season</th>\n",
       "      <th>holiday</th>\n",
       "      <th>workingday</th>\n",
       "      <th>weather</th>\n",
       "      <th>atemp</th>\n",
       "      <th>humidity</th>\n",
       "      <th>windspeed</th>\n",
       "      <th>count</th>\n",
       "      <th>year</th>\n",
       "      <th>month</th>\n",
       "      <th>day</th>\n",
       "      <th>hour</th>\n",
       "    </tr>\n",
       "  </thead>\n",
       "  <tbody>\n",
       "    <tr>\n",
       "      <th>0</th>\n",
       "      <td>1</td>\n",
       "      <td>0</td>\n",
       "      <td>0</td>\n",
       "      <td>1</td>\n",
       "      <td>14.395</td>\n",
       "      <td>81</td>\n",
       "      <td>0.0</td>\n",
       "      <td>16</td>\n",
       "      <td>2011</td>\n",
       "      <td>1</td>\n",
       "      <td>1</td>\n",
       "      <td>0</td>\n",
       "    </tr>\n",
       "    <tr>\n",
       "      <th>1</th>\n",
       "      <td>1</td>\n",
       "      <td>0</td>\n",
       "      <td>0</td>\n",
       "      <td>1</td>\n",
       "      <td>13.635</td>\n",
       "      <td>80</td>\n",
       "      <td>0.0</td>\n",
       "      <td>40</td>\n",
       "      <td>2011</td>\n",
       "      <td>1</td>\n",
       "      <td>1</td>\n",
       "      <td>1</td>\n",
       "    </tr>\n",
       "    <tr>\n",
       "      <th>2</th>\n",
       "      <td>1</td>\n",
       "      <td>0</td>\n",
       "      <td>0</td>\n",
       "      <td>1</td>\n",
       "      <td>13.635</td>\n",
       "      <td>80</td>\n",
       "      <td>0.0</td>\n",
       "      <td>32</td>\n",
       "      <td>2011</td>\n",
       "      <td>1</td>\n",
       "      <td>1</td>\n",
       "      <td>2</td>\n",
       "    </tr>\n",
       "  </tbody>\n",
       "</table>\n",
       "</div>"
      ],
      "text/plain": [
       "   season  holiday  workingday  weather   atemp  humidity  windspeed  count  \\\n",
       "0       1        0           0        1  14.395        81        0.0     16   \n",
       "1       1        0           0        1  13.635        80        0.0     40   \n",
       "2       1        0           0        1  13.635        80        0.0     32   \n",
       "\n",
       "   year  month  day  hour  \n",
       "0  2011      1    1     0  \n",
       "1  2011      1    1     1  \n",
       "2  2011      1    1     2  "
      ]
     },
     "execution_count": 7,
     "metadata": {},
     "output_type": "execute_result"
    }
   ],
   "source": [
    "# weekday is dropped because it overlaps with workingday\n",
    "# temp is dropped because it overlaps with atemp\n",
    "# registered and casual are dropped because they should be response variable\n",
    "train_all = train_df.drop(['datetime', 'weekday', 'temp', 'registered', 'casual'],axis = 1) # include all features and target\n",
    "train_all.head(3)"
   ]
  },
  {
   "cell_type": "code",
   "execution_count": 8,
   "metadata": {
    "collapsed": false
   },
   "outputs": [
    {
     "data": {
      "text/html": [
       "<div>\n",
       "<table border=\"1\" class=\"dataframe\">\n",
       "  <thead>\n",
       "    <tr style=\"text-align: right;\">\n",
       "      <th></th>\n",
       "      <th>season</th>\n",
       "      <th>holiday</th>\n",
       "      <th>workingday</th>\n",
       "      <th>weather</th>\n",
       "      <th>atemp</th>\n",
       "      <th>humidity</th>\n",
       "      <th>windspeed</th>\n",
       "      <th>year</th>\n",
       "      <th>month</th>\n",
       "      <th>day</th>\n",
       "      <th>hour</th>\n",
       "    </tr>\n",
       "  </thead>\n",
       "  <tbody>\n",
       "    <tr>\n",
       "      <th>0</th>\n",
       "      <td>1</td>\n",
       "      <td>0</td>\n",
       "      <td>1</td>\n",
       "      <td>1</td>\n",
       "      <td>11.365</td>\n",
       "      <td>56</td>\n",
       "      <td>26.0027</td>\n",
       "      <td>2011</td>\n",
       "      <td>1</td>\n",
       "      <td>20</td>\n",
       "      <td>0</td>\n",
       "    </tr>\n",
       "    <tr>\n",
       "      <th>1</th>\n",
       "      <td>1</td>\n",
       "      <td>0</td>\n",
       "      <td>1</td>\n",
       "      <td>1</td>\n",
       "      <td>13.635</td>\n",
       "      <td>56</td>\n",
       "      <td>0.0000</td>\n",
       "      <td>2011</td>\n",
       "      <td>1</td>\n",
       "      <td>20</td>\n",
       "      <td>1</td>\n",
       "    </tr>\n",
       "    <tr>\n",
       "      <th>2</th>\n",
       "      <td>1</td>\n",
       "      <td>0</td>\n",
       "      <td>1</td>\n",
       "      <td>1</td>\n",
       "      <td>13.635</td>\n",
       "      <td>56</td>\n",
       "      <td>0.0000</td>\n",
       "      <td>2011</td>\n",
       "      <td>1</td>\n",
       "      <td>20</td>\n",
       "      <td>2</td>\n",
       "    </tr>\n",
       "  </tbody>\n",
       "</table>\n",
       "</div>"
      ],
      "text/plain": [
       "   season  holiday  workingday  weather   atemp  humidity  windspeed  year  \\\n",
       "0       1        0           1        1  11.365        56    26.0027  2011   \n",
       "1       1        0           1        1  13.635        56     0.0000  2011   \n",
       "2       1        0           1        1  13.635        56     0.0000  2011   \n",
       "\n",
       "   month  day  hour  \n",
       "0      1   20     0  \n",
       "1      1   20     1  \n",
       "2      1   20     2  "
      ]
     },
     "execution_count": 8,
     "metadata": {},
     "output_type": "execute_result"
    }
   ],
   "source": [
    "test_all = test_df.drop(['datetime', 'weekday', 'temp'],axis = 1) # include all features and target\n",
    "test_all.head(3) # features for testing model"
   ]
  },
  {
   "cell_type": "markdown",
   "metadata": {},
   "source": [
    "In the above table, conduct one-hot-encoding for \"season\", \"holiday\", \"workingday\", \"weather\""
   ]
  },
  {
   "cell_type": "code",
   "execution_count": 9,
   "metadata": {
    "collapsed": false
   },
   "outputs": [
    {
     "name": "stdout",
     "output_type": "stream",
     "text": [
      "encoded results for the first four categorical features:  \n",
      "\n",
      "[[ 1.  0.  0. ...,  0.  0.  0.]\n",
      " [ 1.  0.  0. ...,  0.  0.  0.]\n",
      " [ 1.  0.  0. ...,  0.  0.  0.]\n",
      " ..., \n",
      " [ 0.  0.  0. ...,  0.  0.  0.]\n",
      " [ 0.  0.  0. ...,  0.  0.  0.]\n",
      " [ 0.  0.  0. ...,  0.  0.  0.]] (10886, 12) \n",
      "\n",
      "combine encoded features with other numerical features:  \n",
      "\n",
      "[[  1.   0.   0. ...,   1.   1.   0.]\n",
      " [  1.   0.   0. ...,   1.   1.   1.]\n",
      " [  1.   0.   0. ...,   1.   1.   2.]\n",
      " ..., \n",
      " [  0.   0.   0. ...,  12.  19.  21.]\n",
      " [  0.   0.   0. ...,  12.  19.  22.]\n",
      " [  0.   0.   0. ...,  12.  19.  23.]] (10886, 20) \n",
      "\n",
      "Index([u'season', u'holiday', u'workingday', u'weather', u'atemp', u'humidity',\n",
      "       u'windspeed', u'count', u'year', u'month', u'day', u'hour'],\n",
      "      dtype='object')\n"
     ]
    }
   ],
   "source": [
    "encode_feature = train_all[['season','holiday','workingday','weather']].values\n",
    "enc = OneHotEncoder()\n",
    "encode_result = enc.fit_transform(encode_feature).toarray()\n",
    "print \"encoded results for the first four categorical features: \", \"\\n\"\n",
    "print encode_result, np.shape(encode_result), \"\\n\"\n",
    "\n",
    "after_encode = np.concatenate([encode_result,train_all.ix[:, 4:]], axis = 1)\n",
    "print \"combine encoded features with other numerical features: \", \"\\n\"\n",
    "print after_encode, np.shape(after_encode), \"\\n\"\n",
    "\n",
    "col_names = train_all.columns\n",
    "print col_names"
   ]
  },
  {
   "cell_type": "markdown",
   "metadata": {},
   "source": [
    "#### Train Test Split\n",
    "#### Version 1: without one-hot-encoding"
   ]
  },
  {
   "cell_type": "code",
   "execution_count": 10,
   "metadata": {
    "collapsed": false
   },
   "outputs": [
    {
     "name": "stdout",
     "output_type": "stream",
     "text": [
      "['season', 'holiday', 'workingday', 'weather', 'atemp', 'humidity', 'windspeed', 'count', 'year', 'month', 'day', 'hour']\n"
     ]
    },
    {
     "data": {
      "text/plain": [
       "((7293,), (7293, 11), (3593,), (3593, 11), (10886, 12))"
      ]
     },
     "execution_count": 10,
     "metadata": {},
     "output_type": "execute_result"
    }
   ],
   "source": [
    "# train and validation split. After one-hot-encoding, we have 19 features.\n",
    "# temp = train_all.values\n",
    "# header1 = list(col_names)\n",
    "# print header1\n",
    "\n",
    "# train_size = int(temp.shape[0]*0.67)\n",
    "\n",
    "# train_sample_indices = random.sample(range(temp.shape[0]),train_size) # random sample from temp data. No replacement\n",
    "# data1 = temp[train_sample_indices,:]\n",
    "\n",
    "# validation_sample_indices = [i for i in range(temp.shape[0]) if i not in train_sample_indices]\n",
    "# data2 = temp[validation_sample_indices,:]\n",
    "\n",
    "# header2 = header1\n",
    "\n",
    "# train_target = temp[train_sample_indices, header1.index('count')].astype(int) # target value for train data\n",
    "# train = np.delete(data1, header1.index('count'), axis = 1) # all features for model input\n",
    "# validation_target = temp[validation_sample_indices, header2.index('count')].astype(int) # target value for validation data\n",
    "# validation = np.delete(data2, header2.index('count'), axis = 1) \n",
    "\n",
    "# assert(np.shape(train)[0] + np.shape(validation)[0] == np.shape(temp)[0]) # makesure the split is right\n",
    "# header1.remove('count')\n",
    "# np.shape(train_target), np.shape(train), np.shape(validation_target), np.shape(validation),np.shape(temp)"
   ]
  },
  {
   "cell_type": "markdown",
   "metadata": {},
   "source": [
    "#### separate train features and train target. Prepare for K-fold"
   ]
  },
  {
   "cell_type": "code",
   "execution_count": 19,
   "metadata": {
    "collapsed": false
   },
   "outputs": [
    {
     "name": "stdout",
     "output_type": "stream",
     "text": [
      "(10886, 12)\n",
      "(10886, 11) (10886,)\n"
     ]
    }
   ],
   "source": [
    "temp = train_all.values\n",
    "header1 = list(col_names)\n",
    "print np.shape(temp)\n",
    "train_feature = np.delete(temp, header1.index('count'), axis = 1)\n",
    "train_target = temp[:,header1.index('count')]\n",
    "print np.shape(train_feature), np.shape(train_target)"
   ]
  },
  {
   "cell_type": "markdown",
   "metadata": {},
   "source": [
    "#### version 2: with one-hot-encoding"
   ]
  },
  {
   "cell_type": "code",
   "execution_count": 11,
   "metadata": {
    "collapsed": false
   },
   "outputs": [
    {
     "name": "stdout",
     "output_type": "stream",
     "text": [
      "['season', 'holiday', 'workingday', 'weather', 'atemp', 'humidity', 'windspeed', 'count', 'year', 'month', 'day', 'hour']\n"
     ]
    },
    {
     "data": {
      "text/plain": [
       "((7293,), (7293, 11), (3593,), (3593, 11), (10886, 12))"
      ]
     },
     "execution_count": 11,
     "metadata": {},
     "output_type": "execute_result"
    }
   ],
   "source": [
    "# train and validation split. After one-hot-encoding, we have 19 features.\n",
    "temp = train_all.values \n",
    "header1 = list(col_names)\n",
    "print header1\n",
    "train_size = int(temp.shape[0]*0.67)\n",
    "\n",
    "train_sample_indices = random.sample(range(temp.shape[0]),train_size) # random sample from temp data. No replacement\n",
    "data1 = temp[train_sample_indices,:]\n",
    "\n",
    "validation_sample_indices = [i for i in range(temp.shape[0]) if i not in train_sample_indices]\n",
    "data2 = temp[validation_sample_indices,:]\n",
    "\n",
    "header2 = header1\n",
    "\n",
    "train_target2 = temp[train_sample_indices, header1.index('count')].astype(int) # target value for train data\n",
    "train2 = np.delete(data1, header1.index('count'), axis = 1) # all features for model input\n",
    "validation_target2 = temp[validation_sample_indices, header2.index('count')].astype(int) # target value for validation data\n",
    "validation2 = np.delete(data2, header2.index('count'), axis = 1) \n",
    "\n",
    "assert(np.shape(train2)[0] + np.shape(validation2)[0] == np.shape(temp)[0]) # makesure the split is right\n",
    "header1.remove('count')\n",
    "np.shape(train_target2), np.shape(train2), np.shape(validation_target2), np.shape(validation2),np.shape(temp)"
   ]
  },
  {
   "cell_type": "markdown",
   "metadata": {},
   "source": [
    "#### Here we have all training data and testing data. Ready to GO!"
   ]
  },
  {
   "cell_type": "code",
   "execution_count": 13,
   "metadata": {
    "collapsed": false
   },
   "outputs": [
    {
     "data": {
      "text/plain": [
       "0.56717915832655263"
      ]
     },
     "execution_count": 13,
     "metadata": {},
     "output_type": "execute_result"
    }
   ],
   "source": [
    "# Evaluation\n",
    "def cal_rmlse(pred, actual):\n",
    "    \"\"\"\n",
    "    evaluation of model\n",
    "    parameters:\n",
    "    -----------\n",
    "    pred: array or list\n",
    "        prediction\n",
    "    actual: array or list\n",
    "        actual target value\n",
    "    return:\n",
    "    -----------\n",
    "    rmlse\n",
    "    \"\"\"\n",
    "    rmlse = np.sqrt(np.mean((np.log(np.array(pred) + 1)- np.log(np.array(actual) + 1))**2))\n",
    "    return rmlse\n",
    "# test example\n",
    "cal_rmlse([1,2,3],[2,6,2])"
   ]
  },
  {
   "cell_type": "markdown",
   "metadata": {},
   "source": [
    "### Model 1: Linear Regression\n",
    "#### pair-wise scatter plot"
   ]
  },
  {
   "cell_type": "code",
   "execution_count": 13,
   "metadata": {
    "collapsed": false
   },
   "outputs": [
    {
     "data": {
      "text/html": [
       "<table class=\"simpletable\">\n",
       "<caption>OLS Regression Results</caption>\n",
       "<tr>\n",
       "  <th>Dep. Variable:</th>            <td>y</td>        <th>  R-squared:         </th> <td>   0.394</td> \n",
       "</tr>\n",
       "<tr>\n",
       "  <th>Model:</th>                   <td>OLS</td>       <th>  Adj. R-squared:    </th> <td>   0.393</td> \n",
       "</tr>\n",
       "<tr>\n",
       "  <th>Method:</th>             <td>Least Squares</td>  <th>  F-statistic:       </th> <td>   430.4</td> \n",
       "</tr>\n",
       "<tr>\n",
       "  <th>Date:</th>             <td>Sat, 20 May 2017</td> <th>  Prob (F-statistic):</th>  <td>  0.00</td>  \n",
       "</tr>\n",
       "<tr>\n",
       "  <th>Time:</th>                 <td>19:10:46</td>     <th>  Log-Likelihood:    </th> <td> -46527.</td> \n",
       "</tr>\n",
       "<tr>\n",
       "  <th>No. Observations:</th>      <td>  7293</td>      <th>  AIC:               </th> <td>9.308e+04</td>\n",
       "</tr>\n",
       "<tr>\n",
       "  <th>Df Residuals:</th>          <td>  7281</td>      <th>  BIC:               </th> <td>9.316e+04</td>\n",
       "</tr>\n",
       "<tr>\n",
       "  <th>Df Model:</th>              <td>    11</td>      <th>                     </th>     <td> </td>    \n",
       "</tr>\n",
       "<tr>\n",
       "  <th>Covariance Type:</th>      <td>nonrobust</td>    <th>                     </th>     <td> </td>    \n",
       "</tr>\n",
       "</table>\n",
       "<table class=\"simpletable\">\n",
       "<tr>\n",
       "    <td></td>       <th>coef</th>     <th>std err</th>      <th>t</th>      <th>P>|t|</th> <th>[95.0% Conf. Int.]</th> \n",
       "</tr>\n",
       "<tr>\n",
       "  <th>const</th> <td>-1.742e+05</td> <td> 6782.408</td> <td>  -25.680</td> <td> 0.000</td> <td>-1.87e+05 -1.61e+05</td>\n",
       "</tr>\n",
       "<tr>\n",
       "  <th>x1</th>    <td>   -7.3054</td> <td>    6.370</td> <td>   -1.147</td> <td> 0.251</td> <td>  -19.792     5.181</td>\n",
       "</tr>\n",
       "<tr>\n",
       "  <th>x2</th>    <td>   -5.0864</td> <td>   10.510</td> <td>   -0.484</td> <td> 0.628</td> <td>  -25.690    15.517</td>\n",
       "</tr>\n",
       "<tr>\n",
       "  <th>x3</th>    <td>   -1.3843</td> <td>    3.710</td> <td>   -0.373</td> <td> 0.709</td> <td>   -8.656     5.888</td>\n",
       "</tr>\n",
       "<tr>\n",
       "  <th>x4</th>    <td>   -8.9179</td> <td>    2.963</td> <td>   -3.009</td> <td> 0.003</td> <td>  -14.727    -3.109</td>\n",
       "</tr>\n",
       "<tr>\n",
       "  <th>x5</th>    <td>    6.1532</td> <td>    0.209</td> <td>   29.417</td> <td> 0.000</td> <td>    5.743     6.563</td>\n",
       "</tr>\n",
       "<tr>\n",
       "  <th>x6</th>    <td>   -2.0207</td> <td>    0.108</td> <td>  -18.692</td> <td> 0.000</td> <td>   -2.233    -1.809</td>\n",
       "</tr>\n",
       "<tr>\n",
       "  <th>x7</th>    <td>    0.5157</td> <td>    0.221</td> <td>    2.338</td> <td> 0.019</td> <td>    0.083     0.948</td>\n",
       "</tr>\n",
       "<tr>\n",
       "  <th>x8</th>    <td>   86.6075</td> <td>    3.372</td> <td>   25.688</td> <td> 0.000</td> <td>   79.998    93.217</td>\n",
       "</tr>\n",
       "<tr>\n",
       "  <th>x9</th>    <td>    9.5017</td> <td>    2.075</td> <td>    4.580</td> <td> 0.000</td> <td>    5.435    13.569</td>\n",
       "</tr>\n",
       "<tr>\n",
       "  <th>x10</th>   <td>    0.2826</td> <td>    0.306</td> <td>    0.925</td> <td> 0.355</td> <td>   -0.317     0.882</td>\n",
       "</tr>\n",
       "<tr>\n",
       "  <th>x11</th>   <td>    7.9788</td> <td>    0.258</td> <td>   30.874</td> <td> 0.000</td> <td>    7.472     8.485</td>\n",
       "</tr>\n",
       "</table>\n",
       "<table class=\"simpletable\">\n",
       "<tr>\n",
       "  <th>Omnibus:</th>       <td>1307.364</td> <th>  Durbin-Watson:     </th> <td>   2.004</td>\n",
       "</tr>\n",
       "<tr>\n",
       "  <th>Prob(Omnibus):</th>  <td> 0.000</td>  <th>  Jarque-Bera (JB):  </th> <td>2364.163</td>\n",
       "</tr>\n",
       "<tr>\n",
       "  <th>Skew:</th>           <td> 1.134</td>  <th>  Prob(JB):          </th> <td>    0.00</td>\n",
       "</tr>\n",
       "<tr>\n",
       "  <th>Kurtosis:</th>       <td> 4.625</td>  <th>  Cond. No.          </th> <td>8.16e+06</td>\n",
       "</tr>\n",
       "</table>"
      ],
      "text/plain": [
       "<class 'statsmodels.iolib.summary.Summary'>\n",
       "\"\"\"\n",
       "                            OLS Regression Results                            \n",
       "==============================================================================\n",
       "Dep. Variable:                      y   R-squared:                       0.394\n",
       "Model:                            OLS   Adj. R-squared:                  0.393\n",
       "Method:                 Least Squares   F-statistic:                     430.4\n",
       "Date:                Sat, 20 May 2017   Prob (F-statistic):               0.00\n",
       "Time:                        19:10:46   Log-Likelihood:                -46527.\n",
       "No. Observations:                7293   AIC:                         9.308e+04\n",
       "Df Residuals:                    7281   BIC:                         9.316e+04\n",
       "Df Model:                          11                                         \n",
       "Covariance Type:            nonrobust                                         \n",
       "==============================================================================\n",
       "                 coef    std err          t      P>|t|      [95.0% Conf. Int.]\n",
       "------------------------------------------------------------------------------\n",
       "const      -1.742e+05   6782.408    -25.680      0.000     -1.87e+05 -1.61e+05\n",
       "x1            -7.3054      6.370     -1.147      0.251       -19.792     5.181\n",
       "x2            -5.0864     10.510     -0.484      0.628       -25.690    15.517\n",
       "x3            -1.3843      3.710     -0.373      0.709        -8.656     5.888\n",
       "x4            -8.9179      2.963     -3.009      0.003       -14.727    -3.109\n",
       "x5             6.1532      0.209     29.417      0.000         5.743     6.563\n",
       "x6            -2.0207      0.108    -18.692      0.000        -2.233    -1.809\n",
       "x7             0.5157      0.221      2.338      0.019         0.083     0.948\n",
       "x8            86.6075      3.372     25.688      0.000        79.998    93.217\n",
       "x9             9.5017      2.075      4.580      0.000         5.435    13.569\n",
       "x10            0.2826      0.306      0.925      0.355        -0.317     0.882\n",
       "x11            7.9788      0.258     30.874      0.000         7.472     8.485\n",
       "==============================================================================\n",
       "Omnibus:                     1307.364   Durbin-Watson:                   2.004\n",
       "Prob(Omnibus):                  0.000   Jarque-Bera (JB):             2364.163\n",
       "Skew:                           1.134   Prob(JB):                         0.00\n",
       "Kurtosis:                       4.625   Cond. No.                     8.16e+06\n",
       "==============================================================================\n",
       "\n",
       "Warnings:\n",
       "[1] Standard Errors assume that the covariance matrix of the errors is correctly specified.\n",
       "[2] The condition number is large, 8.16e+06. This might indicate that there are\n",
       "strong multicollinearity or other numerical problems.\n",
       "\"\"\""
      ]
     },
     "execution_count": 13,
     "metadata": {},
     "output_type": "execute_result"
    }
   ],
   "source": [
    "X = sm.add_constant(train2)\n",
    "result = sm.OLS(train_target2, X).fit()\n",
    "result.summary()"
   ]
  },
  {
   "cell_type": "markdown",
   "metadata": {},
   "source": [
    "#### remove insignificant variables one by one and see other variables' significance"
   ]
  },
  {
   "cell_type": "code",
   "execution_count": 14,
   "metadata": {
    "collapsed": false
   },
   "outputs": [
    {
     "data": {
      "text/html": [
       "<table class=\"simpletable\">\n",
       "<caption>OLS Regression Results</caption>\n",
       "<tr>\n",
       "  <th>Dep. Variable:</th>            <td>y</td>        <th>  R-squared:         </th> <td>   0.393</td> \n",
       "</tr>\n",
       "<tr>\n",
       "  <th>Model:</th>                   <td>OLS</td>       <th>  Adj. R-squared:    </th> <td>   0.393</td> \n",
       "</tr>\n",
       "<tr>\n",
       "  <th>Method:</th>             <td>Least Squares</td>  <th>  F-statistic:       </th> <td>   674.1</td> \n",
       "</tr>\n",
       "<tr>\n",
       "  <th>Date:</th>             <td>Sat, 20 May 2017</td> <th>  Prob (F-statistic):</th>  <td>  0.00</td>  \n",
       "</tr>\n",
       "<tr>\n",
       "  <th>Time:</th>                 <td>19:10:47</td>     <th>  Log-Likelihood:    </th> <td> -46533.</td> \n",
       "</tr>\n",
       "<tr>\n",
       "  <th>No. Observations:</th>      <td>  7293</td>      <th>  AIC:               </th> <td>9.308e+04</td>\n",
       "</tr>\n",
       "<tr>\n",
       "  <th>Df Residuals:</th>          <td>  7285</td>      <th>  BIC:               </th> <td>9.314e+04</td>\n",
       "</tr>\n",
       "<tr>\n",
       "  <th>Df Model:</th>              <td>     7</td>      <th>                     </th>     <td> </td>    \n",
       "</tr>\n",
       "<tr>\n",
       "  <th>Covariance Type:</th>      <td>nonrobust</td>    <th>                     </th>     <td> </td>    \n",
       "</tr>\n",
       "</table>\n",
       "<table class=\"simpletable\">\n",
       "<tr>\n",
       "    <td></td>       <th>coef</th>     <th>std err</th>      <th>t</th>      <th>P>|t|</th> <th>[95.0% Conf. Int.]</th> \n",
       "</tr>\n",
       "<tr>\n",
       "  <th>const</th> <td>-1.735e+05</td> <td> 6780.096</td> <td>  -25.595</td> <td> 0.000</td> <td>-1.87e+05  -1.6e+05</td>\n",
       "</tr>\n",
       "<tr>\n",
       "  <th>x1</th>    <td>    6.1643</td> <td>    0.209</td> <td>   29.481</td> <td> 0.000</td> <td>    5.754     6.574</td>\n",
       "</tr>\n",
       "<tr>\n",
       "  <th>x2</th>    <td>   -2.1642</td> <td>    0.096</td> <td>  -22.474</td> <td> 0.000</td> <td>   -2.353    -1.975</td>\n",
       "</tr>\n",
       "<tr>\n",
       "  <th>x3</th>    <td>    0.4127</td> <td>    0.218</td> <td>    1.892</td> <td> 0.058</td> <td>   -0.015     0.840</td>\n",
       "</tr>\n",
       "<tr>\n",
       "  <th>x4</th>    <td>   86.2896</td> <td>    3.370</td> <td>   25.602</td> <td> 0.000</td> <td>   79.683    92.897</td>\n",
       "</tr>\n",
       "<tr>\n",
       "  <th>x5</th>    <td>    7.3054</td> <td>    0.523</td> <td>   13.960</td> <td> 0.000</td> <td>    6.280     8.331</td>\n",
       "</tr>\n",
       "<tr>\n",
       "  <th>x6</th>    <td>    0.2928</td> <td>    0.306</td> <td>    0.958</td> <td> 0.338</td> <td>   -0.306     0.892</td>\n",
       "</tr>\n",
       "<tr>\n",
       "  <th>x7</th>    <td>    7.8958</td> <td>    0.257</td> <td>   30.736</td> <td> 0.000</td> <td>    7.392     8.399</td>\n",
       "</tr>\n",
       "</table>\n",
       "<table class=\"simpletable\">\n",
       "<tr>\n",
       "  <th>Omnibus:</th>       <td>1312.394</td> <th>  Durbin-Watson:     </th> <td>   2.006</td>\n",
       "</tr>\n",
       "<tr>\n",
       "  <th>Prob(Omnibus):</th>  <td> 0.000</td>  <th>  Jarque-Bera (JB):  </th> <td>2379.104</td>\n",
       "</tr>\n",
       "<tr>\n",
       "  <th>Skew:</th>           <td> 1.136</td>  <th>  Prob(JB):          </th> <td>    0.00</td>\n",
       "</tr>\n",
       "<tr>\n",
       "  <th>Kurtosis:</th>       <td> 4.633</td>  <th>  Cond. No.          </th> <td>8.16e+06</td>\n",
       "</tr>\n",
       "</table>"
      ],
      "text/plain": [
       "<class 'statsmodels.iolib.summary.Summary'>\n",
       "\"\"\"\n",
       "                            OLS Regression Results                            \n",
       "==============================================================================\n",
       "Dep. Variable:                      y   R-squared:                       0.393\n",
       "Model:                            OLS   Adj. R-squared:                  0.393\n",
       "Method:                 Least Squares   F-statistic:                     674.1\n",
       "Date:                Sat, 20 May 2017   Prob (F-statistic):               0.00\n",
       "Time:                        19:10:47   Log-Likelihood:                -46533.\n",
       "No. Observations:                7293   AIC:                         9.308e+04\n",
       "Df Residuals:                    7285   BIC:                         9.314e+04\n",
       "Df Model:                           7                                         \n",
       "Covariance Type:            nonrobust                                         \n",
       "==============================================================================\n",
       "                 coef    std err          t      P>|t|      [95.0% Conf. Int.]\n",
       "------------------------------------------------------------------------------\n",
       "const      -1.735e+05   6780.096    -25.595      0.000     -1.87e+05  -1.6e+05\n",
       "x1             6.1643      0.209     29.481      0.000         5.754     6.574\n",
       "x2            -2.1642      0.096    -22.474      0.000        -2.353    -1.975\n",
       "x3             0.4127      0.218      1.892      0.058        -0.015     0.840\n",
       "x4            86.2896      3.370     25.602      0.000        79.683    92.897\n",
       "x5             7.3054      0.523     13.960      0.000         6.280     8.331\n",
       "x6             0.2928      0.306      0.958      0.338        -0.306     0.892\n",
       "x7             7.8958      0.257     30.736      0.000         7.392     8.399\n",
       "==============================================================================\n",
       "Omnibus:                     1312.394   Durbin-Watson:                   2.006\n",
       "Prob(Omnibus):                  0.000   Jarque-Bera (JB):             2379.104\n",
       "Skew:                           1.136   Prob(JB):                         0.00\n",
       "Kurtosis:                       4.633   Cond. No.                     8.16e+06\n",
       "==============================================================================\n",
       "\n",
       "Warnings:\n",
       "[1] Standard Errors assume that the covariance matrix of the errors is correctly specified.\n",
       "[2] The condition number is large, 8.16e+06. This might indicate that there are\n",
       "strong multicollinearity or other numerical problems.\n",
       "\"\"\""
      ]
     },
     "execution_count": 14,
     "metadata": {},
     "output_type": "execute_result"
    }
   ],
   "source": [
    "X = sm.add_constant(train2[:, [4,5,6,7,8,9,10]])\n",
    "result = sm.OLS(train_target2, X).fit()\n",
    "result.summary()"
   ]
  },
  {
   "cell_type": "code",
   "execution_count": 15,
   "metadata": {
    "collapsed": false
   },
   "outputs": [
    {
     "name": "stdout",
     "output_type": "stream",
     "text": [
      "[  6.16431364  -2.16421511   0.41269913  86.28963499   7.30535335\n",
      "   0.29282921   7.89582118]\n"
     ]
    }
   ],
   "source": [
    "lr = LinearRegression(fit_intercept=True)\n",
    "lr.fit(train2[:, [4,5,6,7,8,9,10]], train_target2)\n",
    "print lr.coef_"
   ]
  },
  {
   "cell_type": "code",
   "execution_count": 16,
   "metadata": {
    "collapsed": false
   },
   "outputs": [
    {
     "data": {
      "image/png": "[encoded data removed]",
      "text/plain": [
       "<matplotlib.figure.Figure at 0x110d69f50>"
      ]
     },
     "metadata": {},
     "output_type": "display_data"
    }
   ],
   "source": [
    "plt.scatter(lr.predict(train2[:, [4,5,6,7,8,9,10]]), lr.predict(train2[:, [4,5,6,7,8,9,10]])-train_target2, \n",
    "            alpha = 0.5)\n",
    "plt.show()"
   ]
  },
  {
   "cell_type": "markdown",
   "metadata": {},
   "source": [
    "diagnostics looks not good"
   ]
  },
  {
   "cell_type": "markdown",
   "metadata": {},
   "source": [
    "### Baseline"
   ]
  },
  {
   "cell_type": "code",
   "execution_count": 25,
   "metadata": {
    "collapsed": false
   },
   "outputs": [
    {
     "name": "stdout",
     "output_type": "stream",
     "text": [
      "baseling rmlse:  1.56213879394\n"
     ]
    }
   ],
   "source": [
    "# calculate error of predicting baseline (everyday count of rental is the same, \n",
    "# which is the average demand of training data)\n",
    "kf = KFold(n_splits=10, random_state=200, shuffle=False)     \n",
    "rmlse_ls = []\n",
    "for train_index, test_index in kf.split(train_feature):\n",
    "    X_train, X_test = train_feature[train_index], train_feature[test_index]\n",
    "    y_train, y_test = train_target[train_index], train_target[test_index]\n",
    "    rmlse = cal_rmlse(np.mean(y_train), y_test)\n",
    "    rmlse_ls.append(rmlse)\n",
    "print \"baseling rmlse: \", np.mean(rmlse_ls)"
   ]
  },
  {
   "cell_type": "markdown",
   "metadata": {},
   "source": [
    "### Model 2: Random Forests"
   ]
  },
  {
   "cell_type": "markdown",
   "metadata": {},
   "source": [
    "#### Fit Random Forests\n",
    "#### select max_depth. Using n_estimators 200 and others as default.\n",
    "result: larger the depth is, better the rmlse is. So use default\n",
    "#### select min_samples_leaf\n",
    "result: smaller the min_samples_leaf, better the rmlse is. So use default"
   ]
  },
  {
   "cell_type": "code",
   "execution_count": 32,
   "metadata": {
    "collapsed": false
   },
   "outputs": [
    {
     "name": "stdout",
     "output_type": "stream",
     "text": [
      "average rmlse for this min_samples_leaf 1 : 0.44131164107\n",
      "average rmlse for this min_samples_leaf 5 : 0.442558386813\n"
     ]
    }
   ],
   "source": [
    "# sample leave selection\n",
    "# 10 fold cross validation     \n",
    "sample_leaf = [1, 5]\n",
    "rmlse_ls1 = []\n",
    "rmlse_avg_ls = []\n",
    "for leaf in sample_leaf:\n",
    "    for train_index, test_index in kf.split(train_feature):\n",
    "        X_train, X_test = train_feature[train_index], train_feature[test_index]\n",
    "        y_train, y_test = train_target[train_index], train_target[test_index]\n",
    "        rf = RandomForestRegressor(n_estimators=200, max_depth=None, random_state=0, max_features='auto',\n",
    "                                min_samples_leaf = leaf, oob_score=True)\n",
    "        rf.fit(X_train, y_train)\n",
    "        pred = rf.predict(X_test)\n",
    "        rmlse = cal_rmlse(pred, y_test)\n",
    "        rmlse_ls1.append(rmlse)\n",
    "    avg_rmlse = np.mean(rmlse_ls1) # average rmlse for this s\n",
    "    rmlse_avg_ls.append(avg_rmlse)\n",
    "    print \"average rmlse for this min_samples_leaf\", leaf, \":\", avg_rmlse"
   ]
  },
  {
   "cell_type": "markdown",
   "metadata": {},
   "source": [
    "#### Parameters: n_estimators = 500, max_depth = None, oob_score = True, n_jobs = -1,random_state =0, max_features = \"auto\","
   ]
  },
  {
   "cell_type": "code",
   "execution_count": null,
   "metadata": {
    "collapsed": true
   },
   "outputs": [],
   "source": [
    "n_estimators = 100, max_depth = None, oob_score = True, n_jobs = -1,random_state =0,\n",
    "                              max_features = \"auto\", min_samples_leaf = 1"
   ]
  },
  {
   "cell_type": "code",
   "execution_count": 37,
   "metadata": {
    "collapsed": false
   },
   "outputs": [
    {
     "name": "stdout",
     "output_type": "stream",
     "text": [
      "rmlse for this fold:  0.730314390813\n",
      "rmlse for this fold:  0.517575609003\n",
      "rmlse for this fold:  0.30559137701\n",
      "rmlse for this fold:  0.37958228984\n",
      "rmlse for this fold:  0.444879589149\n",
      "rmlse for this fold:  0.600681252127\n",
      "rmlse for this fold:  0.425486686547\n",
      "rmlse for this fold:  0.299852324278\n",
      "rmlse for this fold:  0.328332484774\n",
      "rmlse for this fold:  0.386164238013\n",
      "random forests RMLSE result:  0.441846024155\n"
     ]
    }
   ],
   "source": [
    "# 10 fold cross validation\n",
    "kf = KFold(n_splits=10, random_state=200, shuffle=False)\n",
    "rf_rmlse_ls = []\n",
    "for train_index, test_index in kf.split(train_feature):\n",
    "    X_train, X_test = train_feature[train_index], train_feature[test_index]\n",
    "    y_train, y_test = train_target[train_index], train_target[test_index]\n",
    "    model = RandomForestRegressor(n_estimators = 100, max_depth = None, oob_score = True, n_jobs = -1,random_state =0,\n",
    "                              max_features = \"auto\", min_samples_leaf = 1)\n",
    "    model.fit(X_train, y_train)\n",
    "    pred = model.predict(X_test)\n",
    "    rmlse = cal_rmlse(pred, y_test)\n",
    "    print \"rmlse for this fold: \", rmlse\n",
    "    rf_rmlse_ls.append(rmlse)\n",
    "print \"random forests RMLSE result: \", np.mean(rf_rmlse_ls)"
   ]
  },
  {
   "cell_type": "markdown",
   "metadata": {},
   "source": [
    "### Model 3: Gradient Boosting\n",
    "#### Define a function help with model evaluation"
   ]
  },
  {
   "cell_type": "code",
   "execution_count": 25,
   "metadata": {
    "collapsed": false
   },
   "outputs": [],
   "source": [
    "# def modelfit(alg, dtrain, dtrain_target, dvalidation, dvalidation_target, col_names, performCV = True, printFeatureImportance = True, cv_folds = 5):\n",
    "#     # fit the algorithm on the data\n",
    "#     alg.fit(dtrain, dtrain_target)\n",
    "#     # predict training dataset\n",
    "#     dtrain_predictions = alg.predict(dtrain)\n",
    "#     dtrain_predictions[dtrain_predictions<0] = 0\n",
    "    \n",
    "#     dvalidation_predictions = alg.predict(dvalidation)\n",
    "#     dvalidation_predictions[dvalidation_predictions<0] = 0\n",
    "    \n",
    "#     # perform cross-validation\n",
    "#     if performCV:\n",
    "#         cv_score = cross_val_score(alg, dtrain, dtrain_target, cv = cv_folds)\n",
    "\n",
    "#     print \"Model report: \"\n",
    "#     print \"RMLSE for Training Data:\", cal_rmlse(dtrain_predictions, dtrain_target)\n",
    "#     print \"RMLSE for Validation Data:\",cal_rmlse(dvalidation_predictions, dvalidation_target)\n",
    "    \n",
    "#     if performCV:\n",
    "#         print \"CV Score : Mean - %.7g | Std - %.7g | Min - %.7g | Max - %.7g\" % (np.mean(cv_score),np.std(cv_score),np.min(cv_score),np.max(cv_score))\n",
    "        \n",
    "# #     Print Feature Importance:\n",
    "#     if printFeatureImportance:\n",
    "#         feat_imp = pd.Series(alg.feature_importances_, list(col_names)).sort_values(ascending=False)\n",
    "#         feat_imp.plot(kind='bar', title='Feature Importances')\n",
    "#         plt.ylabel('Feature Importance Score')   "
   ]
  },
  {
   "cell_type": "markdown",
   "metadata": {},
   "source": [
    "#### default gradient boosting setting"
   ]
  },
  {
   "cell_type": "code",
   "execution_count": 155,
   "metadata": {
    "collapsed": false
   },
   "outputs": [
    {
     "name": "stdout",
     "output_type": "stream",
     "text": [
      "0\n",
      "rmlse for this fold:  0.185494729241\n",
      "0\n",
      "rmlse for this fold:  0.193647666339\n",
      "0\n",
      "rmlse for this fold:  0.115004635821\n",
      "0\n",
      "rmlse for this fold:  0.148201161385\n",
      "0\n",
      "rmlse for this fold:  0.150786633434\n",
      "0\n",
      "rmlse for this fold:  0.166969165649\n",
      "0\n",
      "rmlse for this fold:  0.160363470075\n",
      "0\n",
      "rmlse for this fold:  0.114265557516\n",
      "0\n",
      "rmlse for this fold:  0.129054774341\n",
      "0\n",
      "rmlse for this fold:  0.386164238013\n",
      "gradient boosting default model RMLSE result:  0.174995203181\n"
     ]
    }
   ],
   "source": [
    "gb_rmlse_ls = []\n",
    "gbm0 = GradientBoostingRegressor(random_state = 200)\n",
    "for train_index, test_index in kf.split(train_feature):\n",
    "    X_train, X_test = train_feature[train_index], train_feature[test_index]\n",
    "    y_train, y_test = train_target[train_index], train_target[test_index]\n",
    "#     print np.shape(X_train), np.shape(X_test), np.shape(y_train)\n",
    "    gbm0.fit(X_train, y_train)\n",
    "    pred = model.predict(X_test)\n",
    "    print sum(pred <0) \n",
    "    rmlse = cal_rmlse(pred, y_test)\n",
    "    print \"rmlse for this fold: \", rmlse\n",
    "    gb_rmlse_ls.append(rmlse)\n",
    "print \"gradient boosting default model RMLSE result: \", np.mean(gb_rmlse_ls)"
   ]
  },
  {
   "cell_type": "markdown",
   "metadata": {},
   "source": [
    "### Predicting Testing Data\n"
   ]
  },
  {
   "cell_type": "code",
   "execution_count": 161,
   "metadata": {
    "collapsed": false
   },
   "outputs": [
    {
     "name": "stdout",
     "output_type": "stream",
     "text": [
      "                     season  holiday  workingday  weather  temp   atemp  \\\n",
      "datetime                                                                  \n",
      "2011-01-01 00:00:00       1        0           0        1  9.84  14.395   \n",
      "2011-01-01 01:00:00       1        0           0        1  9.02  13.635   \n",
      "2011-01-01 02:00:00       1        0           0        1  9.02  13.635   \n",
      "2011-01-01 03:00:00       1        0           0        1  9.84  14.395   \n",
      "2011-01-01 04:00:00       1        0           0        1  9.84  14.395   \n",
      "\n",
      "                     humidity  windspeed  casual  registered  count  year  \\\n",
      "datetime                                                                    \n",
      "2011-01-01 00:00:00        81        0.0       3          13     16  2011   \n",
      "2011-01-01 01:00:00        80        0.0       8          32     40  2011   \n",
      "2011-01-01 02:00:00        80        0.0       5          27     32  2011   \n",
      "2011-01-01 03:00:00        75        0.0       3          10     13  2011   \n",
      "2011-01-01 04:00:00        75        0.0       0           1      1  2011   \n",
      "\n",
      "                     month  day  hour  weekday  \n",
      "datetime                                        \n",
      "2011-01-01 00:00:00      1    1     0        5  \n",
      "2011-01-01 01:00:00      1    1     1        5  \n",
      "2011-01-01 02:00:00      1    1     2        5  \n",
      "2011-01-01 03:00:00      1    1     3        5  \n",
      "2011-01-01 04:00:00      1    1     4        5   (10886, 16)\n",
      "                     season  holiday  workingday  weather   temp   atemp  \\\n",
      "datetime                                                                   \n",
      "2011-01-20 00:00:00       1        0           1        1  10.66  11.365   \n",
      "2011-01-20 01:00:00       1        0           1        1  10.66  13.635   \n",
      "2011-01-20 02:00:00       1        0           1        1  10.66  13.635   \n",
      "2011-01-20 03:00:00       1        0           1        1  10.66  12.880   \n",
      "2011-01-20 04:00:00       1        0           1        1  10.66  12.880   \n",
      "\n",
      "                     humidity  windspeed  year  month  day  hour  weekday  \n",
      "datetime                                                                   \n",
      "2011-01-20 00:00:00        56    26.0027  2011      1   20     0        3  \n",
      "2011-01-20 01:00:00        56     0.0000  2011      1   20     1        3  \n",
      "2011-01-20 02:00:00        56     0.0000  2011      1   20     2        3  \n",
      "2011-01-20 03:00:00        56    11.0014  2011      1   20     3        3  \n",
      "2011-01-20 04:00:00        56    11.0014  2011      1   20     4        3   (6493, 13)\n"
     ]
    }
   ],
   "source": [
    "train_df = pd.read_csv(\"train.csv\")\n",
    "test_df = pd.read_csv(\"test.csv\")\n",
    "# train_dt= pd.to_datetime(train_df[\"datetime\"])\n",
    "# test_dt = pd.to_datetime(test_df[\"datetime\"])\n",
    "train_df[\"year\"] = train_dt.map(lambda x: x.year) \n",
    "train_df[\"month\"] = train_dt.map(lambda x: x.month)\n",
    "train_df[\"day\"] = train_dt.map(lambda x: x.day)\n",
    "train_df[\"hour\"] = train_dt.map(lambda x: x.hour)\n",
    "train_df[\"weekday\"] = train_dt.map(lambda x: x.weekday())\n",
    "test_df[\"year\"] = test_dt.map(lambda x: x.year) \n",
    "test_df[\"month\"] = test_dt.map(lambda x: x.month)\n",
    "test_df[\"day\"] = test_dt.map(lambda x: x.day)\n",
    "test_df[\"hour\"] = test_dt.map(lambda x: x.hour)\n",
    "test_df[\"weekday\"] = test_dt.map(lambda x: x.weekday())\n",
    "\n",
    "train_df.set_index([\"datetime\"], inplace=True)\n",
    "test_df.set_index([\"datetime\"], inplace=True)\n",
    "print train_df.head(), train_df.shape\n",
    "print test_df.head(), test_df.shape\n"
   ]
  },
  {
   "cell_type": "code",
   "execution_count": 162,
   "metadata": {
    "collapsed": false
   },
   "outputs": [
    {
     "name": "stdout",
     "output_type": "stream",
     "text": [
      "                     season  holiday  workingday  weather   atemp  humidity  \\\n",
      "datetime                                                                      \n",
      "2011-01-20 00:00:00       1        0           1        1  11.365        56   \n",
      "2011-01-20 01:00:00       1        0           1        1  13.635        56   \n",
      "2011-01-20 02:00:00       1        0           1        1  13.635        56   \n",
      "\n",
      "                     windspeed  year  month  day  hour  \n",
      "datetime                                                \n",
      "2011-01-20 00:00:00    26.0027  2011      1   20     0  \n",
      "2011-01-20 01:00:00     0.0000  2011      1   20     1  \n",
      "2011-01-20 02:00:00     0.0000  2011      1   20     2  \n",
      "                     season  holiday  workingday  weather   atemp  humidity  \\\n",
      "datetime                                                                      \n",
      "2011-01-01 00:00:00       1        0           0        1  14.395        81   \n",
      "2011-01-01 01:00:00       1        0           0        1  13.635        80   \n",
      "2011-01-01 02:00:00       1        0           0        1  13.635        80   \n",
      "\n",
      "                     windspeed  count  year  month  day  hour  \n",
      "datetime                                                       \n",
      "2011-01-01 00:00:00        0.0     16  2011      1    1     0  \n",
      "2011-01-01 01:00:00        0.0     40  2011      1    1     1  \n",
      "2011-01-01 02:00:00        0.0     32  2011      1    1     2  \n"
     ]
    }
   ],
   "source": [
    "test_features = test_df.drop(['weekday', 'temp'],axis = 1) # include all features and target\n",
    "print test_features.head(3) # features for testing model\n",
    "train_all= train_df.drop(['weekday', 'temp', 'registered', 'casual'],axis = 1) # include all features and target\n",
    "train_features = train_df.drop(['weekday', 'temp', 'registered', 'casual', 'count'],axis = 1)\n",
    "print train_all.head(3) # features for testing model"
   ]
  },
  {
   "cell_type": "code",
   "execution_count": 163,
   "metadata": {
    "collapsed": false
   },
   "outputs": [
    {
     "name": "stdout",
     "output_type": "stream",
     "text": [
      "(10886, 11) (10886, 16) (6493, 11)\n"
     ]
    }
   ],
   "source": [
    "train_df_features = train_df.drop(['weekday', 'temp', 'registered', 'casual','count'], axis=1)\n",
    "test_df =  test_df.drop(['weekday', 'temp'], axis=1)\n",
    "print train_df_features.shape, train_df.shape, test_df.shape"
   ]
  },
  {
   "cell_type": "code",
   "execution_count": 164,
   "metadata": {
    "collapsed": false
   },
   "outputs": [
    {
     "name": "stdout",
     "output_type": "stream",
     "text": [
      "Index([u'season', u'holiday', u'workingday', u'weather', u'atemp', u'humidity',\n",
      "       u'windspeed', u'year', u'month', u'day', u'hour'],\n",
      "      dtype='object')\n",
      "Index([u'season', u'holiday', u'workingday', u'weather', u'atemp', u'humidity',\n",
      "       u'windspeed', u'year', u'month', u'day', u'hour'],\n",
      "      dtype='object')\n"
     ]
    }
   ],
   "source": [
    "print train_df_features.columns\n",
    "print test_df.columns"
   ]
  },
  {
   "cell_type": "code",
   "execution_count": 165,
   "metadata": {
    "collapsed": false
   },
   "outputs": [],
   "source": [
    "year = [\"2011\", \"2012\"]\n",
    "month = [\"01\", \"02\", \"03\", \"04\", \"05\", \"06\", \"07\", \"08\", \"09\", \"10\", \"11\", \"12\", \"13\"]\n",
    "predictions = []\n",
    "for yr in year:\n",
    "    for idx in range(len(month)-1):\n",
    "        start = yr + \"-\" + month[idx]\n",
    "        end = yr + \"-\" + month[idx+1]\n",
    "        gbm0.fit(train_df_features[:end].values, train_df[:end][\"count\"])\n",
    "#         print test_df[start:end].values\n",
    "        pred = gbm0.predict(test_df[start:end].values)\n",
    "        predictions.append(pred)"
   ]
  },
  {
   "cell_type": "code",
   "execution_count": 177,
   "metadata": {
    "collapsed": true
   },
   "outputs": [],
   "source": [
    "temp = predictions"
   ]
  },
  {
   "cell_type": "code",
   "execution_count": 178,
   "metadata": {
    "collapsed": false
   },
   "outputs": [],
   "source": [
    "count_lst = [int(item) for sublist in temp for item in sublist]\n",
    "# count_lst[count_lst<0] = 0\n",
    "count_lst = [0 if i < 0 else i for i in count_lst ]"
   ]
  },
  {
   "cell_type": "code",
   "execution_count": 179,
   "metadata": {
    "collapsed": false
   },
   "outputs": [],
   "source": [
    "test_df['count'] = count_lst\n",
    "test_df.reset_index(inplace = True)"
   ]
  },
  {
   "cell_type": "code",
   "execution_count": 180,
   "metadata": {
    "collapsed": false
   },
   "outputs": [
    {
     "data": {
      "text/html": [
       "<div>\n",
       "<table border=\"1\" class=\"dataframe\">\n",
       "  <thead>\n",
       "    <tr style=\"text-align: right;\">\n",
       "      <th></th>\n",
       "      <th>datetime</th>\n",
       "      <th>season</th>\n",
       "      <th>holiday</th>\n",
       "      <th>workingday</th>\n",
       "      <th>weather</th>\n",
       "      <th>atemp</th>\n",
       "      <th>humidity</th>\n",
       "      <th>windspeed</th>\n",
       "      <th>year</th>\n",
       "      <th>month</th>\n",
       "      <th>day</th>\n",
       "      <th>hour</th>\n",
       "      <th>count</th>\n",
       "    </tr>\n",
       "  </thead>\n",
       "  <tbody>\n",
       "    <tr>\n",
       "      <th>0</th>\n",
       "      <td>2011-01-20 00:00:00</td>\n",
       "      <td>1</td>\n",
       "      <td>0</td>\n",
       "      <td>1</td>\n",
       "      <td>1</td>\n",
       "      <td>11.365</td>\n",
       "      <td>56</td>\n",
       "      <td>26.0027</td>\n",
       "      <td>2011</td>\n",
       "      <td>1</td>\n",
       "      <td>20</td>\n",
       "      <td>0</td>\n",
       "      <td>20</td>\n",
       "    </tr>\n",
       "    <tr>\n",
       "      <th>1</th>\n",
       "      <td>2011-01-20 01:00:00</td>\n",
       "      <td>1</td>\n",
       "      <td>0</td>\n",
       "      <td>1</td>\n",
       "      <td>1</td>\n",
       "      <td>13.635</td>\n",
       "      <td>56</td>\n",
       "      <td>0.0000</td>\n",
       "      <td>2011</td>\n",
       "      <td>1</td>\n",
       "      <td>20</td>\n",
       "      <td>1</td>\n",
       "      <td>11</td>\n",
       "    </tr>\n",
       "    <tr>\n",
       "      <th>2</th>\n",
       "      <td>2011-01-20 02:00:00</td>\n",
       "      <td>1</td>\n",
       "      <td>0</td>\n",
       "      <td>1</td>\n",
       "      <td>1</td>\n",
       "      <td>13.635</td>\n",
       "      <td>56</td>\n",
       "      <td>0.0000</td>\n",
       "      <td>2011</td>\n",
       "      <td>1</td>\n",
       "      <td>20</td>\n",
       "      <td>2</td>\n",
       "      <td>8</td>\n",
       "    </tr>\n",
       "    <tr>\n",
       "      <th>3</th>\n",
       "      <td>2011-01-20 03:00:00</td>\n",
       "      <td>1</td>\n",
       "      <td>0</td>\n",
       "      <td>1</td>\n",
       "      <td>1</td>\n",
       "      <td>12.880</td>\n",
       "      <td>56</td>\n",
       "      <td>11.0014</td>\n",
       "      <td>2011</td>\n",
       "      <td>1</td>\n",
       "      <td>20</td>\n",
       "      <td>3</td>\n",
       "      <td>15</td>\n",
       "    </tr>\n",
       "    <tr>\n",
       "      <th>4</th>\n",
       "      <td>2011-01-20 04:00:00</td>\n",
       "      <td>1</td>\n",
       "      <td>0</td>\n",
       "      <td>1</td>\n",
       "      <td>1</td>\n",
       "      <td>12.880</td>\n",
       "      <td>56</td>\n",
       "      <td>11.0014</td>\n",
       "      <td>2011</td>\n",
       "      <td>1</td>\n",
       "      <td>20</td>\n",
       "      <td>4</td>\n",
       "      <td>14</td>\n",
       "    </tr>\n",
       "  </tbody>\n",
       "</table>\n",
       "</div>"
      ],
      "text/plain": [
       "              datetime  season  holiday  workingday  weather   atemp  \\\n",
       "0  2011-01-20 00:00:00       1        0           1        1  11.365   \n",
       "1  2011-01-20 01:00:00       1        0           1        1  13.635   \n",
       "2  2011-01-20 02:00:00       1        0           1        1  13.635   \n",
       "3  2011-01-20 03:00:00       1        0           1        1  12.880   \n",
       "4  2011-01-20 04:00:00       1        0           1        1  12.880   \n",
       "\n",
       "   humidity  windspeed  year  month  day  hour  count  \n",
       "0        56    26.0027  2011      1   20     0     20  \n",
       "1        56     0.0000  2011      1   20     1     11  \n",
       "2        56     0.0000  2011      1   20     2      8  \n",
       "3        56    11.0014  2011      1   20     3     15  \n",
       "4        56    11.0014  2011      1   20     4     14  "
      ]
     },
     "execution_count": 180,
     "metadata": {},
     "output_type": "execute_result"
    }
   ],
   "source": [
    "test_df.head()"
   ]
  },
  {
   "cell_type": "code",
   "execution_count": 181,
   "metadata": {
    "collapsed": false
   },
   "outputs": [],
   "source": [
    "test_df[['datetime', 'count']].to_csv(\"gbm_prediction.csv\", index = False)"
   ]
  },
  {
   "cell_type": "code",
   "execution_count": null,
   "metadata": {
    "collapsed": true
   },
   "outputs": [],
   "source": []
  }
 ],
 "metadata": {
  "anaconda-cloud": {},
  "kernelspec": {
   "display_name": "Python 2",
   "language": "python",
   "name": "python2"
  },
  "language_info": {
   "codemirror_mode": {
    "name": "ipython",
    "version": 2
   },
   "file_extension": ".py",
   "mimetype": "text/x-python",
   "name": "python",
   "nbconvert_exporter": "python",
   "pygments_lexer": "ipython2",
   "version": "2.7.13"
  }
 },
 "nbformat": 4,
 "nbformat_minor": 0
}
